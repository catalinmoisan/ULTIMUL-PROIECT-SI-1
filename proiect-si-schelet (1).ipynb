{
 "cells": [
  {
   "cell_type": "markdown",
   "id": "54896191-626e-4f80-a6bb-6df72dc0e124",
   "metadata": {},
   "source": [
    "### Import packages"
   ]
  },
  {
   "cell_type": "code",
   "execution_count": 392,
   "id": "5069dcd5-22bb-4f89-b63b-aede24a6fcfc",
   "metadata": {},
   "outputs": [
    {
     "name": "stdout",
     "output_type": "stream",
     "text": [
      "Requirement already satisfied: ydata-profiling in c:\\anaconda\\envs\\tema_numpy\\lib\\site-packages (4.16.1)\n",
      "Requirement already satisfied: scipy<1.16,>=1.4.1 in c:\\anaconda\\envs\\tema_numpy\\lib\\site-packages (from ydata-profiling) (1.15.2)\n",
      "Requirement already satisfied: pandas!=1.4.0,<3.0,>1.1 in c:\\anaconda\\envs\\tema_numpy\\lib\\site-packages (from ydata-profiling) (2.2.3)\n",
      "Requirement already satisfied: matplotlib<=3.10,>=3.5 in c:\\anaconda\\envs\\tema_numpy\\lib\\site-packages (from ydata-profiling) (3.10.0)\n",
      "Requirement already satisfied: pydantic>=2 in c:\\anaconda\\envs\\tema_numpy\\lib\\site-packages (from ydata-profiling) (2.11.4)\n",
      "Requirement already satisfied: PyYAML<6.1,>=5.0.0 in c:\\anaconda\\envs\\tema_numpy\\lib\\site-packages (from ydata-profiling) (6.0.2)\n",
      "Requirement already satisfied: jinja2<3.2,>=2.11.1 in c:\\anaconda\\envs\\tema_numpy\\lib\\site-packages (from ydata-profiling) (3.1.6)\n",
      "Requirement already satisfied: visions<0.8.2,>=0.7.5 in c:\\anaconda\\envs\\tema_numpy\\lib\\site-packages (from visions[type_image_path]<0.8.2,>=0.7.5->ydata-profiling) (0.8.1)\n",
      "Requirement already satisfied: numpy<2.2,>=1.16.0 in c:\\anaconda\\envs\\tema_numpy\\lib\\site-packages (from ydata-profiling) (1.26.4)\n",
      "Requirement already satisfied: htmlmin==0.1.12 in c:\\anaconda\\envs\\tema_numpy\\lib\\site-packages (from ydata-profiling) (0.1.12)\n",
      "Requirement already satisfied: phik<0.13,>=0.11.1 in c:\\anaconda\\envs\\tema_numpy\\lib\\site-packages (from ydata-profiling) (0.12.4)\n",
      "Requirement already satisfied: requests<3,>=2.24.0 in c:\\anaconda\\envs\\tema_numpy\\lib\\site-packages (from ydata-profiling) (2.32.3)\n",
      "Requirement already satisfied: tqdm<5,>=4.48.2 in c:\\anaconda\\envs\\tema_numpy\\lib\\site-packages (from ydata-profiling) (4.67.1)\n",
      "Requirement already satisfied: seaborn<0.14,>=0.10.1 in c:\\anaconda\\envs\\tema_numpy\\lib\\site-packages (from ydata-profiling) (0.13.2)\n",
      "Requirement already satisfied: multimethod<2,>=1.4 in c:\\anaconda\\envs\\tema_numpy\\lib\\site-packages (from ydata-profiling) (1.12)\n",
      "Requirement already satisfied: statsmodels<1,>=0.13.2 in c:\\anaconda\\envs\\tema_numpy\\lib\\site-packages (from ydata-profiling) (0.14.4)\n",
      "Requirement already satisfied: typeguard<5,>=3 in c:\\anaconda\\envs\\tema_numpy\\lib\\site-packages (from ydata-profiling) (4.4.2)\n",
      "Requirement already satisfied: imagehash==4.3.1 in c:\\anaconda\\envs\\tema_numpy\\lib\\site-packages (from ydata-profiling) (4.3.1)\n",
      "Requirement already satisfied: wordcloud>=1.9.3 in c:\\anaconda\\envs\\tema_numpy\\lib\\site-packages (from ydata-profiling) (1.9.4)\n",
      "Requirement already satisfied: dacite>=1.8 in c:\\anaconda\\envs\\tema_numpy\\lib\\site-packages (from ydata-profiling) (1.9.2)\n",
      "Requirement already satisfied: numba<=0.61,>=0.56.0 in c:\\anaconda\\envs\\tema_numpy\\lib\\site-packages (from ydata-profiling) (0.61.0)\n",
      "Requirement already satisfied: PyWavelets in c:\\anaconda\\envs\\tema_numpy\\lib\\site-packages (from imagehash==4.3.1->ydata-profiling) (1.8.0)\n",
      "Requirement already satisfied: pillow in c:\\anaconda\\envs\\tema_numpy\\lib\\site-packages (from imagehash==4.3.1->ydata-profiling) (11.1.0)\n",
      "Requirement already satisfied: MarkupSafe>=2.0 in c:\\anaconda\\envs\\tema_numpy\\lib\\site-packages (from jinja2<3.2,>=2.11.1->ydata-profiling) (3.0.2)\n",
      "Requirement already satisfied: contourpy>=1.0.1 in c:\\anaconda\\envs\\tema_numpy\\lib\\site-packages (from matplotlib<=3.10,>=3.5->ydata-profiling) (1.3.1)\n",
      "Requirement already satisfied: cycler>=0.10 in c:\\anaconda\\envs\\tema_numpy\\lib\\site-packages (from matplotlib<=3.10,>=3.5->ydata-profiling) (0.11.0)\n",
      "Requirement already satisfied: fonttools>=4.22.0 in c:\\anaconda\\envs\\tema_numpy\\lib\\site-packages (from matplotlib<=3.10,>=3.5->ydata-profiling) (4.55.3)\n",
      "Requirement already satisfied: kiwisolver>=1.3.1 in c:\\anaconda\\envs\\tema_numpy\\lib\\site-packages (from matplotlib<=3.10,>=3.5->ydata-profiling) (1.4.8)\n",
      "Requirement already satisfied: packaging>=20.0 in c:\\anaconda\\envs\\tema_numpy\\lib\\site-packages (from matplotlib<=3.10,>=3.5->ydata-profiling) (24.2)\n",
      "Requirement already satisfied: pyparsing>=2.3.1 in c:\\anaconda\\envs\\tema_numpy\\lib\\site-packages (from matplotlib<=3.10,>=3.5->ydata-profiling) (3.2.0)\n",
      "Requirement already satisfied: python-dateutil>=2.7 in c:\\anaconda\\envs\\tema_numpy\\lib\\site-packages (from matplotlib<=3.10,>=3.5->ydata-profiling) (2.9.0.post0)\n",
      "Requirement already satisfied: llvmlite<0.45,>=0.44.0dev0 in c:\\anaconda\\envs\\tema_numpy\\lib\\site-packages (from numba<=0.61,>=0.56.0->ydata-profiling) (0.44.0)\n",
      "Requirement already satisfied: pytz>=2020.1 in c:\\anaconda\\envs\\tema_numpy\\lib\\site-packages (from pandas!=1.4.0,<3.0,>1.1->ydata-profiling) (2024.1)\n",
      "Requirement already satisfied: tzdata>=2022.7 in c:\\anaconda\\envs\\tema_numpy\\lib\\site-packages (from pandas!=1.4.0,<3.0,>1.1->ydata-profiling) (2023.3)\n",
      "Requirement already satisfied: joblib>=0.14.1 in c:\\anaconda\\envs\\tema_numpy\\lib\\site-packages (from phik<0.13,>=0.11.1->ydata-profiling) (1.4.2)\n",
      "Requirement already satisfied: annotated-types>=0.6.0 in c:\\anaconda\\envs\\tema_numpy\\lib\\site-packages (from pydantic>=2->ydata-profiling) (0.7.0)\n",
      "Requirement already satisfied: pydantic-core==2.33.2 in c:\\anaconda\\envs\\tema_numpy\\lib\\site-packages (from pydantic>=2->ydata-profiling) (2.33.2)\n",
      "Requirement already satisfied: typing-extensions>=4.12.2 in c:\\anaconda\\envs\\tema_numpy\\lib\\site-packages (from pydantic>=2->ydata-profiling) (4.12.2)\n",
      "Requirement already satisfied: typing-inspection>=0.4.0 in c:\\anaconda\\envs\\tema_numpy\\lib\\site-packages (from pydantic>=2->ydata-profiling) (0.4.0)\n",
      "Requirement already satisfied: charset-normalizer<4,>=2 in c:\\anaconda\\envs\\tema_numpy\\lib\\site-packages (from requests<3,>=2.24.0->ydata-profiling) (3.3.2)\n",
      "Requirement already satisfied: idna<4,>=2.5 in c:\\anaconda\\envs\\tema_numpy\\lib\\site-packages (from requests<3,>=2.24.0->ydata-profiling) (3.7)\n",
      "Requirement already satisfied: urllib3<3,>=1.21.1 in c:\\anaconda\\envs\\tema_numpy\\lib\\site-packages (from requests<3,>=2.24.0->ydata-profiling) (2.3.0)\n",
      "Requirement already satisfied: certifi>=2017.4.17 in c:\\anaconda\\envs\\tema_numpy\\lib\\site-packages (from requests<3,>=2.24.0->ydata-profiling) (2025.4.26)\n",
      "Requirement already satisfied: patsy>=0.5.6 in c:\\anaconda\\envs\\tema_numpy\\lib\\site-packages (from statsmodels<1,>=0.13.2->ydata-profiling) (1.0.1)\n",
      "Requirement already satisfied: colorama in c:\\anaconda\\envs\\tema_numpy\\lib\\site-packages (from tqdm<5,>=4.48.2->ydata-profiling) (0.4.6)\n",
      "Requirement already satisfied: attrs>=19.3.0 in c:\\anaconda\\envs\\tema_numpy\\lib\\site-packages (from visions<0.8.2,>=0.7.5->visions[type_image_path]<0.8.2,>=0.7.5->ydata-profiling) (24.3.0)\n",
      "Requirement already satisfied: networkx>=2.4 in c:\\anaconda\\envs\\tema_numpy\\lib\\site-packages (from visions<0.8.2,>=0.7.5->visions[type_image_path]<0.8.2,>=0.7.5->ydata-profiling) (3.4.2)\n",
      "Requirement already satisfied: puremagic in c:\\anaconda\\envs\\tema_numpy\\lib\\site-packages (from visions<0.8.2,>=0.7.5->visions[type_image_path]<0.8.2,>=0.7.5->ydata-profiling) (1.29)\n",
      "Requirement already satisfied: six>=1.5 in c:\\anaconda\\envs\\tema_numpy\\lib\\site-packages (from python-dateutil>=2.7->matplotlib<=3.10,>=3.5->ydata-profiling) (1.17.0)\n",
      "Error in callback <function _draw_all_if_interactive at 0x0000018084A99800> (for post_execute), with arguments args (),kwargs {}:\n"
     ]
    },
    {
     "ename": "MemoryError",
     "evalue": "bad allocation",
     "output_type": "error",
     "traceback": [
      "\u001b[31m---------------------------------------------------------------------------\u001b[39m",
      "\u001b[31mMemoryError\u001b[39m                               Traceback (most recent call last)",
      "\u001b[36mFile \u001b[39m\u001b[32mC:\\Anaconda\\envs\\tema_numpy\\Lib\\site-packages\\matplotlib\\pyplot.py:279\u001b[39m, in \u001b[36m_draw_all_if_interactive\u001b[39m\u001b[34m()\u001b[39m\n\u001b[32m    277\u001b[39m \u001b[38;5;28;01mdef\u001b[39;00m\u001b[38;5;250m \u001b[39m\u001b[34m_draw_all_if_interactive\u001b[39m() -> \u001b[38;5;28;01mNone\u001b[39;00m:\n\u001b[32m    278\u001b[39m     \u001b[38;5;28;01mif\u001b[39;00m matplotlib.is_interactive():\n\u001b[32m--> \u001b[39m\u001b[32m279\u001b[39m         draw_all()\n",
      "\u001b[36mFile \u001b[39m\u001b[32mC:\\Anaconda\\envs\\tema_numpy\\Lib\\site-packages\\matplotlib\\_pylab_helpers.py:131\u001b[39m, in \u001b[36mGcf.draw_all\u001b[39m\u001b[34m(cls, force)\u001b[39m\n\u001b[32m    129\u001b[39m \u001b[38;5;28;01mfor\u001b[39;00m manager \u001b[38;5;129;01min\u001b[39;00m \u001b[38;5;28mcls\u001b[39m.get_all_fig_managers():\n\u001b[32m    130\u001b[39m     \u001b[38;5;28;01mif\u001b[39;00m force \u001b[38;5;129;01mor\u001b[39;00m manager.canvas.figure.stale:\n\u001b[32m--> \u001b[39m\u001b[32m131\u001b[39m         manager.canvas.draw_idle()\n",
      "\u001b[36mFile \u001b[39m\u001b[32mC:\\Anaconda\\envs\\tema_numpy\\Lib\\site-packages\\matplotlib\\backend_bases.py:1891\u001b[39m, in \u001b[36mFigureCanvasBase.draw_idle\u001b[39m\u001b[34m(self, *args, **kwargs)\u001b[39m\n\u001b[32m   1889\u001b[39m \u001b[38;5;28;01mif\u001b[39;00m \u001b[38;5;129;01mnot\u001b[39;00m \u001b[38;5;28mself\u001b[39m._is_idle_drawing:\n\u001b[32m   1890\u001b[39m     \u001b[38;5;28;01mwith\u001b[39;00m \u001b[38;5;28mself\u001b[39m._idle_draw_cntx():\n\u001b[32m-> \u001b[39m\u001b[32m1891\u001b[39m         \u001b[38;5;28mself\u001b[39m.draw(*args, **kwargs)\n",
      "\u001b[36mFile \u001b[39m\u001b[32mC:\\Anaconda\\envs\\tema_numpy\\Lib\\site-packages\\matplotlib\\backends\\backend_agg.py:377\u001b[39m, in \u001b[36mFigureCanvasAgg.draw\u001b[39m\u001b[34m(self)\u001b[39m\n\u001b[32m    375\u001b[39m \u001b[38;5;28;01mdef\u001b[39;00m\u001b[38;5;250m \u001b[39m\u001b[34mdraw\u001b[39m(\u001b[38;5;28mself\u001b[39m):\n\u001b[32m    376\u001b[39m     \u001b[38;5;66;03m# docstring inherited\u001b[39;00m\n\u001b[32m--> \u001b[39m\u001b[32m377\u001b[39m     \u001b[38;5;28mself\u001b[39m.renderer = \u001b[38;5;28mself\u001b[39m.get_renderer()\n\u001b[32m    378\u001b[39m     \u001b[38;5;28mself\u001b[39m.renderer.clear()\n\u001b[32m    379\u001b[39m     \u001b[38;5;66;03m# Acquire a lock on the shared font cache.\u001b[39;00m\n",
      "\u001b[36mFile \u001b[39m\u001b[32mC:\\Anaconda\\envs\\tema_numpy\\Lib\\site-packages\\matplotlib\\backends\\backend_agg.py:392\u001b[39m, in \u001b[36mFigureCanvasAgg.get_renderer\u001b[39m\u001b[34m(self)\u001b[39m\n\u001b[32m    390\u001b[39m reuse_renderer = (\u001b[38;5;28mself\u001b[39m._lastKey == key)\n\u001b[32m    391\u001b[39m \u001b[38;5;28;01mif\u001b[39;00m \u001b[38;5;129;01mnot\u001b[39;00m reuse_renderer:\n\u001b[32m--> \u001b[39m\u001b[32m392\u001b[39m     \u001b[38;5;28mself\u001b[39m.renderer = RendererAgg(w, h, \u001b[38;5;28mself\u001b[39m.figure.dpi)\n\u001b[32m    393\u001b[39m     \u001b[38;5;28mself\u001b[39m._lastKey = key\n\u001b[32m    394\u001b[39m \u001b[38;5;28;01mreturn\u001b[39;00m \u001b[38;5;28mself\u001b[39m.renderer\n",
      "\u001b[36mFile \u001b[39m\u001b[32mC:\\Anaconda\\envs\\tema_numpy\\Lib\\site-packages\\matplotlib\\backends\\backend_agg.py:69\u001b[39m, in \u001b[36mRendererAgg.__init__\u001b[39m\u001b[34m(self, width, height, dpi)\u001b[39m\n\u001b[32m     67\u001b[39m \u001b[38;5;28mself\u001b[39m.width = width\n\u001b[32m     68\u001b[39m \u001b[38;5;28mself\u001b[39m.height = height\n\u001b[32m---> \u001b[39m\u001b[32m69\u001b[39m \u001b[38;5;28mself\u001b[39m._renderer = _RendererAgg(\u001b[38;5;28mint\u001b[39m(width), \u001b[38;5;28mint\u001b[39m(height), dpi)\n\u001b[32m     70\u001b[39m \u001b[38;5;28mself\u001b[39m._filter_renderers = []\n\u001b[32m     72\u001b[39m \u001b[38;5;28mself\u001b[39m._update_methods()\n",
      "\u001b[31mMemoryError\u001b[39m: bad allocation"
     ]
    }
   ],
   "source": [
    "import numpy as np\n",
    "import pandas as pd\n",
    "import matplotlib.pyplot as plt\n",
    "from sklearn.model_selection import train_test_split\n",
    "import copy\n",
    "import math\n",
    "!pip install ydata-profiling\n",
    "\n",
    "%matplotlib inline"
   ]
  },
  {
   "cell_type": "code",
   "execution_count": null,
   "id": "9a1f08c6-56e4-4abc-ac50-98c74ed5a106",
   "metadata": {},
   "outputs": [],
   "source": []
  },
  {
   "cell_type": "code",
   "execution_count": 393,
   "id": "9a847ec2-6bf3-4f15-bb04-8f87eac6e8eb",
   "metadata": {},
   "outputs": [
    {
     "name": "stdout",
     "output_type": "stream",
     "text": [
      "Error in callback <function _draw_all_if_interactive at 0x0000018084A99800> (for post_execute), with arguments args (),kwargs {}:\n"
     ]
    },
    {
     "ename": "MemoryError",
     "evalue": "bad allocation",
     "output_type": "error",
     "traceback": [
      "\u001b[31m---------------------------------------------------------------------------\u001b[39m",
      "\u001b[31mMemoryError\u001b[39m                               Traceback (most recent call last)",
      "\u001b[36mFile \u001b[39m\u001b[32mC:\\Anaconda\\envs\\tema_numpy\\Lib\\site-packages\\matplotlib\\pyplot.py:279\u001b[39m, in \u001b[36m_draw_all_if_interactive\u001b[39m\u001b[34m()\u001b[39m\n\u001b[32m    277\u001b[39m \u001b[38;5;28;01mdef\u001b[39;00m\u001b[38;5;250m \u001b[39m\u001b[34m_draw_all_if_interactive\u001b[39m() -> \u001b[38;5;28;01mNone\u001b[39;00m:\n\u001b[32m    278\u001b[39m     \u001b[38;5;28;01mif\u001b[39;00m matplotlib.is_interactive():\n\u001b[32m--> \u001b[39m\u001b[32m279\u001b[39m         draw_all()\n",
      "\u001b[36mFile \u001b[39m\u001b[32mC:\\Anaconda\\envs\\tema_numpy\\Lib\\site-packages\\matplotlib\\_pylab_helpers.py:131\u001b[39m, in \u001b[36mGcf.draw_all\u001b[39m\u001b[34m(cls, force)\u001b[39m\n\u001b[32m    129\u001b[39m \u001b[38;5;28;01mfor\u001b[39;00m manager \u001b[38;5;129;01min\u001b[39;00m \u001b[38;5;28mcls\u001b[39m.get_all_fig_managers():\n\u001b[32m    130\u001b[39m     \u001b[38;5;28;01mif\u001b[39;00m force \u001b[38;5;129;01mor\u001b[39;00m manager.canvas.figure.stale:\n\u001b[32m--> \u001b[39m\u001b[32m131\u001b[39m         manager.canvas.draw_idle()\n",
      "\u001b[36mFile \u001b[39m\u001b[32mC:\\Anaconda\\envs\\tema_numpy\\Lib\\site-packages\\matplotlib\\backend_bases.py:1891\u001b[39m, in \u001b[36mFigureCanvasBase.draw_idle\u001b[39m\u001b[34m(self, *args, **kwargs)\u001b[39m\n\u001b[32m   1889\u001b[39m \u001b[38;5;28;01mif\u001b[39;00m \u001b[38;5;129;01mnot\u001b[39;00m \u001b[38;5;28mself\u001b[39m._is_idle_drawing:\n\u001b[32m   1890\u001b[39m     \u001b[38;5;28;01mwith\u001b[39;00m \u001b[38;5;28mself\u001b[39m._idle_draw_cntx():\n\u001b[32m-> \u001b[39m\u001b[32m1891\u001b[39m         \u001b[38;5;28mself\u001b[39m.draw(*args, **kwargs)\n",
      "\u001b[36mFile \u001b[39m\u001b[32mC:\\Anaconda\\envs\\tema_numpy\\Lib\\site-packages\\matplotlib\\backends\\backend_agg.py:377\u001b[39m, in \u001b[36mFigureCanvasAgg.draw\u001b[39m\u001b[34m(self)\u001b[39m\n\u001b[32m    375\u001b[39m \u001b[38;5;28;01mdef\u001b[39;00m\u001b[38;5;250m \u001b[39m\u001b[34mdraw\u001b[39m(\u001b[38;5;28mself\u001b[39m):\n\u001b[32m    376\u001b[39m     \u001b[38;5;66;03m# docstring inherited\u001b[39;00m\n\u001b[32m--> \u001b[39m\u001b[32m377\u001b[39m     \u001b[38;5;28mself\u001b[39m.renderer = \u001b[38;5;28mself\u001b[39m.get_renderer()\n\u001b[32m    378\u001b[39m     \u001b[38;5;28mself\u001b[39m.renderer.clear()\n\u001b[32m    379\u001b[39m     \u001b[38;5;66;03m# Acquire a lock on the shared font cache.\u001b[39;00m\n",
      "\u001b[36mFile \u001b[39m\u001b[32mC:\\Anaconda\\envs\\tema_numpy\\Lib\\site-packages\\matplotlib\\backends\\backend_agg.py:392\u001b[39m, in \u001b[36mFigureCanvasAgg.get_renderer\u001b[39m\u001b[34m(self)\u001b[39m\n\u001b[32m    390\u001b[39m reuse_renderer = (\u001b[38;5;28mself\u001b[39m._lastKey == key)\n\u001b[32m    391\u001b[39m \u001b[38;5;28;01mif\u001b[39;00m \u001b[38;5;129;01mnot\u001b[39;00m reuse_renderer:\n\u001b[32m--> \u001b[39m\u001b[32m392\u001b[39m     \u001b[38;5;28mself\u001b[39m.renderer = RendererAgg(w, h, \u001b[38;5;28mself\u001b[39m.figure.dpi)\n\u001b[32m    393\u001b[39m     \u001b[38;5;28mself\u001b[39m._lastKey = key\n\u001b[32m    394\u001b[39m \u001b[38;5;28;01mreturn\u001b[39;00m \u001b[38;5;28mself\u001b[39m.renderer\n",
      "\u001b[36mFile \u001b[39m\u001b[32mC:\\Anaconda\\envs\\tema_numpy\\Lib\\site-packages\\matplotlib\\backends\\backend_agg.py:69\u001b[39m, in \u001b[36mRendererAgg.__init__\u001b[39m\u001b[34m(self, width, height, dpi)\u001b[39m\n\u001b[32m     67\u001b[39m \u001b[38;5;28mself\u001b[39m.width = width\n\u001b[32m     68\u001b[39m \u001b[38;5;28mself\u001b[39m.height = height\n\u001b[32m---> \u001b[39m\u001b[32m69\u001b[39m \u001b[38;5;28mself\u001b[39m._renderer = _RendererAgg(\u001b[38;5;28mint\u001b[39m(width), \u001b[38;5;28mint\u001b[39m(height), dpi)\n\u001b[32m     70\u001b[39m \u001b[38;5;28mself\u001b[39m._filter_renderers = []\n\u001b[32m     72\u001b[39m \u001b[38;5;28mself\u001b[39m._update_methods()\n",
      "\u001b[31mMemoryError\u001b[39m: bad allocation"
     ]
    }
   ],
   "source": [
    "# pip install ydata-profiling\n",
    "from ydata_profiling import ProfileReport"
   ]
  },
  {
   "cell_type": "markdown",
   "id": "1e2d5aca-d2dc-43d6-a0ac-52fb94343b21",
   "metadata": {},
   "source": [
    "### Read data"
   ]
  },
  {
   "cell_type": "code",
   "execution_count": 395,
   "id": "75bd6e22-e2b7-47ab-9578-e176fdebbeec",
   "metadata": {
    "scrolled": true
   },
   "outputs": [
    {
     "data": {
      "text/html": [
       "<div>\n",
       "<style scoped>\n",
       "    .dataframe tbody tr th:only-of-type {\n",
       "        vertical-align: middle;\n",
       "    }\n",
       "\n",
       "    .dataframe tbody tr th {\n",
       "        vertical-align: top;\n",
       "    }\n",
       "\n",
       "    .dataframe thead th {\n",
       "        text-align: right;\n",
       "    }\n",
       "</style>\n",
       "<table border=\"1\" class=\"dataframe\">\n",
       "  <thead>\n",
       "    <tr style=\"text-align: right;\">\n",
       "      <th></th>\n",
       "      <th>Education</th>\n",
       "      <th>JoiningYear</th>\n",
       "      <th>City</th>\n",
       "      <th>PaymentTier</th>\n",
       "      <th>Age</th>\n",
       "      <th>Gender</th>\n",
       "      <th>EverBenched</th>\n",
       "      <th>ExperienceInCurrentDomain</th>\n",
       "      <th>LeaveOrNot</th>\n",
       "    </tr>\n",
       "  </thead>\n",
       "  <tbody>\n",
       "    <tr>\n",
       "      <th>0</th>\n",
       "      <td>Bachelors</td>\n",
       "      <td>2017</td>\n",
       "      <td>Bangalore</td>\n",
       "      <td>3</td>\n",
       "      <td>34</td>\n",
       "      <td>Male</td>\n",
       "      <td>No</td>\n",
       "      <td>0</td>\n",
       "      <td>0</td>\n",
       "    </tr>\n",
       "    <tr>\n",
       "      <th>1</th>\n",
       "      <td>Bachelors</td>\n",
       "      <td>2013</td>\n",
       "      <td>Pune</td>\n",
       "      <td>1</td>\n",
       "      <td>28</td>\n",
       "      <td>Female</td>\n",
       "      <td>No</td>\n",
       "      <td>3</td>\n",
       "      <td>1</td>\n",
       "    </tr>\n",
       "    <tr>\n",
       "      <th>2</th>\n",
       "      <td>Bachelors</td>\n",
       "      <td>2014</td>\n",
       "      <td>New Delhi</td>\n",
       "      <td>3</td>\n",
       "      <td>38</td>\n",
       "      <td>Female</td>\n",
       "      <td>No</td>\n",
       "      <td>2</td>\n",
       "      <td>0</td>\n",
       "    </tr>\n",
       "    <tr>\n",
       "      <th>3</th>\n",
       "      <td>Masters</td>\n",
       "      <td>2016</td>\n",
       "      <td>Bangalore</td>\n",
       "      <td>3</td>\n",
       "      <td>27</td>\n",
       "      <td>Male</td>\n",
       "      <td>No</td>\n",
       "      <td>5</td>\n",
       "      <td>1</td>\n",
       "    </tr>\n",
       "    <tr>\n",
       "      <th>4</th>\n",
       "      <td>Masters</td>\n",
       "      <td>2017</td>\n",
       "      <td>Pune</td>\n",
       "      <td>3</td>\n",
       "      <td>24</td>\n",
       "      <td>Male</td>\n",
       "      <td>Yes</td>\n",
       "      <td>2</td>\n",
       "      <td>1</td>\n",
       "    </tr>\n",
       "    <tr>\n",
       "      <th>...</th>\n",
       "      <td>...</td>\n",
       "      <td>...</td>\n",
       "      <td>...</td>\n",
       "      <td>...</td>\n",
       "      <td>...</td>\n",
       "      <td>...</td>\n",
       "      <td>...</td>\n",
       "      <td>...</td>\n",
       "      <td>...</td>\n",
       "    </tr>\n",
       "    <tr>\n",
       "      <th>4648</th>\n",
       "      <td>Bachelors</td>\n",
       "      <td>2013</td>\n",
       "      <td>Bangalore</td>\n",
       "      <td>3</td>\n",
       "      <td>26</td>\n",
       "      <td>Female</td>\n",
       "      <td>No</td>\n",
       "      <td>4</td>\n",
       "      <td>0</td>\n",
       "    </tr>\n",
       "    <tr>\n",
       "      <th>4649</th>\n",
       "      <td>Masters</td>\n",
       "      <td>2013</td>\n",
       "      <td>Pune</td>\n",
       "      <td>2</td>\n",
       "      <td>37</td>\n",
       "      <td>Male</td>\n",
       "      <td>No</td>\n",
       "      <td>2</td>\n",
       "      <td>1</td>\n",
       "    </tr>\n",
       "    <tr>\n",
       "      <th>4650</th>\n",
       "      <td>Masters</td>\n",
       "      <td>2018</td>\n",
       "      <td>New Delhi</td>\n",
       "      <td>3</td>\n",
       "      <td>27</td>\n",
       "      <td>Male</td>\n",
       "      <td>No</td>\n",
       "      <td>5</td>\n",
       "      <td>1</td>\n",
       "    </tr>\n",
       "    <tr>\n",
       "      <th>4651</th>\n",
       "      <td>Bachelors</td>\n",
       "      <td>2012</td>\n",
       "      <td>Bangalore</td>\n",
       "      <td>3</td>\n",
       "      <td>30</td>\n",
       "      <td>Male</td>\n",
       "      <td>Yes</td>\n",
       "      <td>2</td>\n",
       "      <td>0</td>\n",
       "    </tr>\n",
       "    <tr>\n",
       "      <th>4652</th>\n",
       "      <td>Bachelors</td>\n",
       "      <td>2015</td>\n",
       "      <td>Bangalore</td>\n",
       "      <td>3</td>\n",
       "      <td>33</td>\n",
       "      <td>Male</td>\n",
       "      <td>Yes</td>\n",
       "      <td>4</td>\n",
       "      <td>0</td>\n",
       "    </tr>\n",
       "  </tbody>\n",
       "</table>\n",
       "<p>4653 rows × 9 columns</p>\n",
       "</div>"
      ],
      "text/plain": [
       "      Education  JoiningYear       City  PaymentTier  Age  Gender EverBenched  \\\n",
       "0     Bachelors         2017  Bangalore            3   34    Male          No   \n",
       "1     Bachelors         2013       Pune            1   28  Female          No   \n",
       "2     Bachelors         2014  New Delhi            3   38  Female          No   \n",
       "3       Masters         2016  Bangalore            3   27    Male          No   \n",
       "4       Masters         2017       Pune            3   24    Male         Yes   \n",
       "...         ...          ...        ...          ...  ...     ...         ...   \n",
       "4648  Bachelors         2013  Bangalore            3   26  Female          No   \n",
       "4649    Masters         2013       Pune            2   37    Male          No   \n",
       "4650    Masters         2018  New Delhi            3   27    Male          No   \n",
       "4651  Bachelors         2012  Bangalore            3   30    Male         Yes   \n",
       "4652  Bachelors         2015  Bangalore            3   33    Male         Yes   \n",
       "\n",
       "      ExperienceInCurrentDomain  LeaveOrNot  \n",
       "0                             0           0  \n",
       "1                             3           1  \n",
       "2                             2           0  \n",
       "3                             5           1  \n",
       "4                             2           1  \n",
       "...                         ...         ...  \n",
       "4648                          4           0  \n",
       "4649                          2           1  \n",
       "4650                          5           1  \n",
       "4651                          2           0  \n",
       "4652                          4           0  \n",
       "\n",
       "[4653 rows x 9 columns]"
      ]
     },
     "execution_count": 395,
     "metadata": {},
     "output_type": "execute_result"
    },
    {
     "name": "stdout",
     "output_type": "stream",
     "text": [
      "Error in callback <function _draw_all_if_interactive at 0x0000018084A99800> (for post_execute), with arguments args (),kwargs {}:\n"
     ]
    },
    {
     "ename": "MemoryError",
     "evalue": "bad allocation",
     "output_type": "error",
     "traceback": [
      "\u001b[31m---------------------------------------------------------------------------\u001b[39m",
      "\u001b[31mMemoryError\u001b[39m                               Traceback (most recent call last)",
      "\u001b[36mFile \u001b[39m\u001b[32mC:\\Anaconda\\envs\\tema_numpy\\Lib\\site-packages\\matplotlib\\pyplot.py:279\u001b[39m, in \u001b[36m_draw_all_if_interactive\u001b[39m\u001b[34m()\u001b[39m\n\u001b[32m    277\u001b[39m \u001b[38;5;28;01mdef\u001b[39;00m\u001b[38;5;250m \u001b[39m\u001b[34m_draw_all_if_interactive\u001b[39m() -> \u001b[38;5;28;01mNone\u001b[39;00m:\n\u001b[32m    278\u001b[39m     \u001b[38;5;28;01mif\u001b[39;00m matplotlib.is_interactive():\n\u001b[32m--> \u001b[39m\u001b[32m279\u001b[39m         draw_all()\n",
      "\u001b[36mFile \u001b[39m\u001b[32mC:\\Anaconda\\envs\\tema_numpy\\Lib\\site-packages\\matplotlib\\_pylab_helpers.py:131\u001b[39m, in \u001b[36mGcf.draw_all\u001b[39m\u001b[34m(cls, force)\u001b[39m\n\u001b[32m    129\u001b[39m \u001b[38;5;28;01mfor\u001b[39;00m manager \u001b[38;5;129;01min\u001b[39;00m \u001b[38;5;28mcls\u001b[39m.get_all_fig_managers():\n\u001b[32m    130\u001b[39m     \u001b[38;5;28;01mif\u001b[39;00m force \u001b[38;5;129;01mor\u001b[39;00m manager.canvas.figure.stale:\n\u001b[32m--> \u001b[39m\u001b[32m131\u001b[39m         manager.canvas.draw_idle()\n",
      "\u001b[36mFile \u001b[39m\u001b[32mC:\\Anaconda\\envs\\tema_numpy\\Lib\\site-packages\\matplotlib\\backend_bases.py:1891\u001b[39m, in \u001b[36mFigureCanvasBase.draw_idle\u001b[39m\u001b[34m(self, *args, **kwargs)\u001b[39m\n\u001b[32m   1889\u001b[39m \u001b[38;5;28;01mif\u001b[39;00m \u001b[38;5;129;01mnot\u001b[39;00m \u001b[38;5;28mself\u001b[39m._is_idle_drawing:\n\u001b[32m   1890\u001b[39m     \u001b[38;5;28;01mwith\u001b[39;00m \u001b[38;5;28mself\u001b[39m._idle_draw_cntx():\n\u001b[32m-> \u001b[39m\u001b[32m1891\u001b[39m         \u001b[38;5;28mself\u001b[39m.draw(*args, **kwargs)\n",
      "\u001b[36mFile \u001b[39m\u001b[32mC:\\Anaconda\\envs\\tema_numpy\\Lib\\site-packages\\matplotlib\\backends\\backend_agg.py:377\u001b[39m, in \u001b[36mFigureCanvasAgg.draw\u001b[39m\u001b[34m(self)\u001b[39m\n\u001b[32m    375\u001b[39m \u001b[38;5;28;01mdef\u001b[39;00m\u001b[38;5;250m \u001b[39m\u001b[34mdraw\u001b[39m(\u001b[38;5;28mself\u001b[39m):\n\u001b[32m    376\u001b[39m     \u001b[38;5;66;03m# docstring inherited\u001b[39;00m\n\u001b[32m--> \u001b[39m\u001b[32m377\u001b[39m     \u001b[38;5;28mself\u001b[39m.renderer = \u001b[38;5;28mself\u001b[39m.get_renderer()\n\u001b[32m    378\u001b[39m     \u001b[38;5;28mself\u001b[39m.renderer.clear()\n\u001b[32m    379\u001b[39m     \u001b[38;5;66;03m# Acquire a lock on the shared font cache.\u001b[39;00m\n",
      "\u001b[36mFile \u001b[39m\u001b[32mC:\\Anaconda\\envs\\tema_numpy\\Lib\\site-packages\\matplotlib\\backends\\backend_agg.py:392\u001b[39m, in \u001b[36mFigureCanvasAgg.get_renderer\u001b[39m\u001b[34m(self)\u001b[39m\n\u001b[32m    390\u001b[39m reuse_renderer = (\u001b[38;5;28mself\u001b[39m._lastKey == key)\n\u001b[32m    391\u001b[39m \u001b[38;5;28;01mif\u001b[39;00m \u001b[38;5;129;01mnot\u001b[39;00m reuse_renderer:\n\u001b[32m--> \u001b[39m\u001b[32m392\u001b[39m     \u001b[38;5;28mself\u001b[39m.renderer = RendererAgg(w, h, \u001b[38;5;28mself\u001b[39m.figure.dpi)\n\u001b[32m    393\u001b[39m     \u001b[38;5;28mself\u001b[39m._lastKey = key\n\u001b[32m    394\u001b[39m \u001b[38;5;28;01mreturn\u001b[39;00m \u001b[38;5;28mself\u001b[39m.renderer\n",
      "\u001b[36mFile \u001b[39m\u001b[32mC:\\Anaconda\\envs\\tema_numpy\\Lib\\site-packages\\matplotlib\\backends\\backend_agg.py:69\u001b[39m, in \u001b[36mRendererAgg.__init__\u001b[39m\u001b[34m(self, width, height, dpi)\u001b[39m\n\u001b[32m     67\u001b[39m \u001b[38;5;28mself\u001b[39m.width = width\n\u001b[32m     68\u001b[39m \u001b[38;5;28mself\u001b[39m.height = height\n\u001b[32m---> \u001b[39m\u001b[32m69\u001b[39m \u001b[38;5;28mself\u001b[39m._renderer = _RendererAgg(\u001b[38;5;28mint\u001b[39m(width), \u001b[38;5;28mint\u001b[39m(height), dpi)\n\u001b[32m     70\u001b[39m \u001b[38;5;28mself\u001b[39m._filter_renderers = []\n\u001b[32m     72\u001b[39m \u001b[38;5;28mself\u001b[39m._update_methods()\n",
      "\u001b[31mMemoryError\u001b[39m: bad allocation"
     ]
    }
   ],
   "source": [
    "import pandas as pd\n",
    "\n",
    "# Citim datasetul :\n",
    "data = pd.read_csv(\"../Employee.csv\")\n",
    "\n",
    "# Afisam primele 5 randuri :\n",
    "data"
   ]
  },
  {
   "cell_type": "markdown",
   "id": "f104b782-eb20-424c-9026-24e84da456da",
   "metadata": {},
   "source": [
    "### Drop empty lines in data and remove NAN's"
   ]
  },
  {
   "cell_type": "code",
   "execution_count": 397,
   "id": "3b5203a4-a7da-4749-a6db-94f73e501060",
   "metadata": {},
   "outputs": [
    {
     "data": {
      "text/html": [
       "<div>\n",
       "<style scoped>\n",
       "    .dataframe tbody tr th:only-of-type {\n",
       "        vertical-align: middle;\n",
       "    }\n",
       "\n",
       "    .dataframe tbody tr th {\n",
       "        vertical-align: top;\n",
       "    }\n",
       "\n",
       "    .dataframe thead th {\n",
       "        text-align: right;\n",
       "    }\n",
       "</style>\n",
       "<table border=\"1\" class=\"dataframe\">\n",
       "  <thead>\n",
       "    <tr style=\"text-align: right;\">\n",
       "      <th></th>\n",
       "      <th>Education</th>\n",
       "      <th>JoiningYear</th>\n",
       "      <th>City</th>\n",
       "      <th>PaymentTier</th>\n",
       "      <th>Age</th>\n",
       "      <th>Gender</th>\n",
       "      <th>EverBenched</th>\n",
       "      <th>ExperienceInCurrentDomain</th>\n",
       "      <th>LeaveOrNot</th>\n",
       "    </tr>\n",
       "  </thead>\n",
       "  <tbody>\n",
       "    <tr>\n",
       "      <th>0</th>\n",
       "      <td>Bachelors</td>\n",
       "      <td>2017</td>\n",
       "      <td>Bangalore</td>\n",
       "      <td>3</td>\n",
       "      <td>34</td>\n",
       "      <td>Male</td>\n",
       "      <td>No</td>\n",
       "      <td>0</td>\n",
       "      <td>0</td>\n",
       "    </tr>\n",
       "    <tr>\n",
       "      <th>1</th>\n",
       "      <td>Bachelors</td>\n",
       "      <td>2013</td>\n",
       "      <td>Pune</td>\n",
       "      <td>1</td>\n",
       "      <td>28</td>\n",
       "      <td>Female</td>\n",
       "      <td>No</td>\n",
       "      <td>3</td>\n",
       "      <td>1</td>\n",
       "    </tr>\n",
       "    <tr>\n",
       "      <th>2</th>\n",
       "      <td>Bachelors</td>\n",
       "      <td>2014</td>\n",
       "      <td>New Delhi</td>\n",
       "      <td>3</td>\n",
       "      <td>38</td>\n",
       "      <td>Female</td>\n",
       "      <td>No</td>\n",
       "      <td>2</td>\n",
       "      <td>0</td>\n",
       "    </tr>\n",
       "    <tr>\n",
       "      <th>3</th>\n",
       "      <td>Masters</td>\n",
       "      <td>2016</td>\n",
       "      <td>Bangalore</td>\n",
       "      <td>3</td>\n",
       "      <td>27</td>\n",
       "      <td>Male</td>\n",
       "      <td>No</td>\n",
       "      <td>5</td>\n",
       "      <td>1</td>\n",
       "    </tr>\n",
       "    <tr>\n",
       "      <th>4</th>\n",
       "      <td>Masters</td>\n",
       "      <td>2017</td>\n",
       "      <td>Pune</td>\n",
       "      <td>3</td>\n",
       "      <td>24</td>\n",
       "      <td>Male</td>\n",
       "      <td>Yes</td>\n",
       "      <td>2</td>\n",
       "      <td>1</td>\n",
       "    </tr>\n",
       "    <tr>\n",
       "      <th>...</th>\n",
       "      <td>...</td>\n",
       "      <td>...</td>\n",
       "      <td>...</td>\n",
       "      <td>...</td>\n",
       "      <td>...</td>\n",
       "      <td>...</td>\n",
       "      <td>...</td>\n",
       "      <td>...</td>\n",
       "      <td>...</td>\n",
       "    </tr>\n",
       "    <tr>\n",
       "      <th>4648</th>\n",
       "      <td>Bachelors</td>\n",
       "      <td>2013</td>\n",
       "      <td>Bangalore</td>\n",
       "      <td>3</td>\n",
       "      <td>26</td>\n",
       "      <td>Female</td>\n",
       "      <td>No</td>\n",
       "      <td>4</td>\n",
       "      <td>0</td>\n",
       "    </tr>\n",
       "    <tr>\n",
       "      <th>4649</th>\n",
       "      <td>Masters</td>\n",
       "      <td>2013</td>\n",
       "      <td>Pune</td>\n",
       "      <td>2</td>\n",
       "      <td>37</td>\n",
       "      <td>Male</td>\n",
       "      <td>No</td>\n",
       "      <td>2</td>\n",
       "      <td>1</td>\n",
       "    </tr>\n",
       "    <tr>\n",
       "      <th>4650</th>\n",
       "      <td>Masters</td>\n",
       "      <td>2018</td>\n",
       "      <td>New Delhi</td>\n",
       "      <td>3</td>\n",
       "      <td>27</td>\n",
       "      <td>Male</td>\n",
       "      <td>No</td>\n",
       "      <td>5</td>\n",
       "      <td>1</td>\n",
       "    </tr>\n",
       "    <tr>\n",
       "      <th>4651</th>\n",
       "      <td>Bachelors</td>\n",
       "      <td>2012</td>\n",
       "      <td>Bangalore</td>\n",
       "      <td>3</td>\n",
       "      <td>30</td>\n",
       "      <td>Male</td>\n",
       "      <td>Yes</td>\n",
       "      <td>2</td>\n",
       "      <td>0</td>\n",
       "    </tr>\n",
       "    <tr>\n",
       "      <th>4652</th>\n",
       "      <td>Bachelors</td>\n",
       "      <td>2015</td>\n",
       "      <td>Bangalore</td>\n",
       "      <td>3</td>\n",
       "      <td>33</td>\n",
       "      <td>Male</td>\n",
       "      <td>Yes</td>\n",
       "      <td>4</td>\n",
       "      <td>0</td>\n",
       "    </tr>\n",
       "  </tbody>\n",
       "</table>\n",
       "<p>4653 rows × 9 columns</p>\n",
       "</div>"
      ],
      "text/plain": [
       "      Education  JoiningYear       City  PaymentTier  Age  Gender EverBenched  \\\n",
       "0     Bachelors         2017  Bangalore            3   34    Male          No   \n",
       "1     Bachelors         2013       Pune            1   28  Female          No   \n",
       "2     Bachelors         2014  New Delhi            3   38  Female          No   \n",
       "3       Masters         2016  Bangalore            3   27    Male          No   \n",
       "4       Masters         2017       Pune            3   24    Male         Yes   \n",
       "...         ...          ...        ...          ...  ...     ...         ...   \n",
       "4648  Bachelors         2013  Bangalore            3   26  Female          No   \n",
       "4649    Masters         2013       Pune            2   37    Male          No   \n",
       "4650    Masters         2018  New Delhi            3   27    Male          No   \n",
       "4651  Bachelors         2012  Bangalore            3   30    Male         Yes   \n",
       "4652  Bachelors         2015  Bangalore            3   33    Male         Yes   \n",
       "\n",
       "      ExperienceInCurrentDomain  LeaveOrNot  \n",
       "0                             0           0  \n",
       "1                             3           1  \n",
       "2                             2           0  \n",
       "3                             5           1  \n",
       "4                             2           1  \n",
       "...                         ...         ...  \n",
       "4648                          4           0  \n",
       "4649                          2           1  \n",
       "4650                          5           1  \n",
       "4651                          2           0  \n",
       "4652                          4           0  \n",
       "\n",
       "[4653 rows x 9 columns]"
      ]
     },
     "execution_count": 397,
     "metadata": {},
     "output_type": "execute_result"
    },
    {
     "name": "stdout",
     "output_type": "stream",
     "text": [
      "Error in callback <function _draw_all_if_interactive at 0x0000018084A99800> (for post_execute), with arguments args (),kwargs {}:\n"
     ]
    },
    {
     "ename": "MemoryError",
     "evalue": "bad allocation",
     "output_type": "error",
     "traceback": [
      "\u001b[31m---------------------------------------------------------------------------\u001b[39m",
      "\u001b[31mMemoryError\u001b[39m                               Traceback (most recent call last)",
      "\u001b[36mFile \u001b[39m\u001b[32mC:\\Anaconda\\envs\\tema_numpy\\Lib\\site-packages\\matplotlib\\pyplot.py:279\u001b[39m, in \u001b[36m_draw_all_if_interactive\u001b[39m\u001b[34m()\u001b[39m\n\u001b[32m    277\u001b[39m \u001b[38;5;28;01mdef\u001b[39;00m\u001b[38;5;250m \u001b[39m\u001b[34m_draw_all_if_interactive\u001b[39m() -> \u001b[38;5;28;01mNone\u001b[39;00m:\n\u001b[32m    278\u001b[39m     \u001b[38;5;28;01mif\u001b[39;00m matplotlib.is_interactive():\n\u001b[32m--> \u001b[39m\u001b[32m279\u001b[39m         draw_all()\n",
      "\u001b[36mFile \u001b[39m\u001b[32mC:\\Anaconda\\envs\\tema_numpy\\Lib\\site-packages\\matplotlib\\_pylab_helpers.py:131\u001b[39m, in \u001b[36mGcf.draw_all\u001b[39m\u001b[34m(cls, force)\u001b[39m\n\u001b[32m    129\u001b[39m \u001b[38;5;28;01mfor\u001b[39;00m manager \u001b[38;5;129;01min\u001b[39;00m \u001b[38;5;28mcls\u001b[39m.get_all_fig_managers():\n\u001b[32m    130\u001b[39m     \u001b[38;5;28;01mif\u001b[39;00m force \u001b[38;5;129;01mor\u001b[39;00m manager.canvas.figure.stale:\n\u001b[32m--> \u001b[39m\u001b[32m131\u001b[39m         manager.canvas.draw_idle()\n",
      "\u001b[36mFile \u001b[39m\u001b[32mC:\\Anaconda\\envs\\tema_numpy\\Lib\\site-packages\\matplotlib\\backend_bases.py:1891\u001b[39m, in \u001b[36mFigureCanvasBase.draw_idle\u001b[39m\u001b[34m(self, *args, **kwargs)\u001b[39m\n\u001b[32m   1889\u001b[39m \u001b[38;5;28;01mif\u001b[39;00m \u001b[38;5;129;01mnot\u001b[39;00m \u001b[38;5;28mself\u001b[39m._is_idle_drawing:\n\u001b[32m   1890\u001b[39m     \u001b[38;5;28;01mwith\u001b[39;00m \u001b[38;5;28mself\u001b[39m._idle_draw_cntx():\n\u001b[32m-> \u001b[39m\u001b[32m1891\u001b[39m         \u001b[38;5;28mself\u001b[39m.draw(*args, **kwargs)\n",
      "\u001b[36mFile \u001b[39m\u001b[32mC:\\Anaconda\\envs\\tema_numpy\\Lib\\site-packages\\matplotlib\\backends\\backend_agg.py:377\u001b[39m, in \u001b[36mFigureCanvasAgg.draw\u001b[39m\u001b[34m(self)\u001b[39m\n\u001b[32m    375\u001b[39m \u001b[38;5;28;01mdef\u001b[39;00m\u001b[38;5;250m \u001b[39m\u001b[34mdraw\u001b[39m(\u001b[38;5;28mself\u001b[39m):\n\u001b[32m    376\u001b[39m     \u001b[38;5;66;03m# docstring inherited\u001b[39;00m\n\u001b[32m--> \u001b[39m\u001b[32m377\u001b[39m     \u001b[38;5;28mself\u001b[39m.renderer = \u001b[38;5;28mself\u001b[39m.get_renderer()\n\u001b[32m    378\u001b[39m     \u001b[38;5;28mself\u001b[39m.renderer.clear()\n\u001b[32m    379\u001b[39m     \u001b[38;5;66;03m# Acquire a lock on the shared font cache.\u001b[39;00m\n",
      "\u001b[36mFile \u001b[39m\u001b[32mC:\\Anaconda\\envs\\tema_numpy\\Lib\\site-packages\\matplotlib\\backends\\backend_agg.py:392\u001b[39m, in \u001b[36mFigureCanvasAgg.get_renderer\u001b[39m\u001b[34m(self)\u001b[39m\n\u001b[32m    390\u001b[39m reuse_renderer = (\u001b[38;5;28mself\u001b[39m._lastKey == key)\n\u001b[32m    391\u001b[39m \u001b[38;5;28;01mif\u001b[39;00m \u001b[38;5;129;01mnot\u001b[39;00m reuse_renderer:\n\u001b[32m--> \u001b[39m\u001b[32m392\u001b[39m     \u001b[38;5;28mself\u001b[39m.renderer = RendererAgg(w, h, \u001b[38;5;28mself\u001b[39m.figure.dpi)\n\u001b[32m    393\u001b[39m     \u001b[38;5;28mself\u001b[39m._lastKey = key\n\u001b[32m    394\u001b[39m \u001b[38;5;28;01mreturn\u001b[39;00m \u001b[38;5;28mself\u001b[39m.renderer\n",
      "\u001b[36mFile \u001b[39m\u001b[32mC:\\Anaconda\\envs\\tema_numpy\\Lib\\site-packages\\matplotlib\\backends\\backend_agg.py:69\u001b[39m, in \u001b[36mRendererAgg.__init__\u001b[39m\u001b[34m(self, width, height, dpi)\u001b[39m\n\u001b[32m     67\u001b[39m \u001b[38;5;28mself\u001b[39m.width = width\n\u001b[32m     68\u001b[39m \u001b[38;5;28mself\u001b[39m.height = height\n\u001b[32m---> \u001b[39m\u001b[32m69\u001b[39m \u001b[38;5;28mself\u001b[39m._renderer = _RendererAgg(\u001b[38;5;28mint\u001b[39m(width), \u001b[38;5;28mint\u001b[39m(height), dpi)\n\u001b[32m     70\u001b[39m \u001b[38;5;28mself\u001b[39m._filter_renderers = []\n\u001b[32m     72\u001b[39m \u001b[38;5;28mself\u001b[39m._update_methods()\n",
      "\u001b[31mMemoryError\u001b[39m: bad allocation"
     ]
    }
   ],
   "source": [
    "data = data.dropna()\n",
    "data"
   ]
  },
  {
   "cell_type": "markdown",
   "id": "2793e9e5-0b95-46e6-858c-02fd3d4d7715",
   "metadata": {},
   "source": [
    "### Reset the index for potentially removed rows in data"
   ]
  },
  {
   "cell_type": "code",
   "execution_count": 399,
   "id": "644eeedb-2537-43f7-a791-6781ddf3b973",
   "metadata": {},
   "outputs": [
    {
     "name": "stdout",
     "output_type": "stream",
     "text": [
      "Error in callback <function _draw_all_if_interactive at 0x0000018084A99800> (for post_execute), with arguments args (),kwargs {}:\n"
     ]
    },
    {
     "ename": "MemoryError",
     "evalue": "bad allocation",
     "output_type": "error",
     "traceback": [
      "\u001b[31m---------------------------------------------------------------------------\u001b[39m",
      "\u001b[31mMemoryError\u001b[39m                               Traceback (most recent call last)",
      "\u001b[36mFile \u001b[39m\u001b[32mC:\\Anaconda\\envs\\tema_numpy\\Lib\\site-packages\\matplotlib\\pyplot.py:279\u001b[39m, in \u001b[36m_draw_all_if_interactive\u001b[39m\u001b[34m()\u001b[39m\n\u001b[32m    277\u001b[39m \u001b[38;5;28;01mdef\u001b[39;00m\u001b[38;5;250m \u001b[39m\u001b[34m_draw_all_if_interactive\u001b[39m() -> \u001b[38;5;28;01mNone\u001b[39;00m:\n\u001b[32m    278\u001b[39m     \u001b[38;5;28;01mif\u001b[39;00m matplotlib.is_interactive():\n\u001b[32m--> \u001b[39m\u001b[32m279\u001b[39m         draw_all()\n",
      "\u001b[36mFile \u001b[39m\u001b[32mC:\\Anaconda\\envs\\tema_numpy\\Lib\\site-packages\\matplotlib\\_pylab_helpers.py:131\u001b[39m, in \u001b[36mGcf.draw_all\u001b[39m\u001b[34m(cls, force)\u001b[39m\n\u001b[32m    129\u001b[39m \u001b[38;5;28;01mfor\u001b[39;00m manager \u001b[38;5;129;01min\u001b[39;00m \u001b[38;5;28mcls\u001b[39m.get_all_fig_managers():\n\u001b[32m    130\u001b[39m     \u001b[38;5;28;01mif\u001b[39;00m force \u001b[38;5;129;01mor\u001b[39;00m manager.canvas.figure.stale:\n\u001b[32m--> \u001b[39m\u001b[32m131\u001b[39m         manager.canvas.draw_idle()\n",
      "\u001b[36mFile \u001b[39m\u001b[32mC:\\Anaconda\\envs\\tema_numpy\\Lib\\site-packages\\matplotlib\\backend_bases.py:1891\u001b[39m, in \u001b[36mFigureCanvasBase.draw_idle\u001b[39m\u001b[34m(self, *args, **kwargs)\u001b[39m\n\u001b[32m   1889\u001b[39m \u001b[38;5;28;01mif\u001b[39;00m \u001b[38;5;129;01mnot\u001b[39;00m \u001b[38;5;28mself\u001b[39m._is_idle_drawing:\n\u001b[32m   1890\u001b[39m     \u001b[38;5;28;01mwith\u001b[39;00m \u001b[38;5;28mself\u001b[39m._idle_draw_cntx():\n\u001b[32m-> \u001b[39m\u001b[32m1891\u001b[39m         \u001b[38;5;28mself\u001b[39m.draw(*args, **kwargs)\n",
      "\u001b[36mFile \u001b[39m\u001b[32mC:\\Anaconda\\envs\\tema_numpy\\Lib\\site-packages\\matplotlib\\backends\\backend_agg.py:377\u001b[39m, in \u001b[36mFigureCanvasAgg.draw\u001b[39m\u001b[34m(self)\u001b[39m\n\u001b[32m    375\u001b[39m \u001b[38;5;28;01mdef\u001b[39;00m\u001b[38;5;250m \u001b[39m\u001b[34mdraw\u001b[39m(\u001b[38;5;28mself\u001b[39m):\n\u001b[32m    376\u001b[39m     \u001b[38;5;66;03m# docstring inherited\u001b[39;00m\n\u001b[32m--> \u001b[39m\u001b[32m377\u001b[39m     \u001b[38;5;28mself\u001b[39m.renderer = \u001b[38;5;28mself\u001b[39m.get_renderer()\n\u001b[32m    378\u001b[39m     \u001b[38;5;28mself\u001b[39m.renderer.clear()\n\u001b[32m    379\u001b[39m     \u001b[38;5;66;03m# Acquire a lock on the shared font cache.\u001b[39;00m\n",
      "\u001b[36mFile \u001b[39m\u001b[32mC:\\Anaconda\\envs\\tema_numpy\\Lib\\site-packages\\matplotlib\\backends\\backend_agg.py:392\u001b[39m, in \u001b[36mFigureCanvasAgg.get_renderer\u001b[39m\u001b[34m(self)\u001b[39m\n\u001b[32m    390\u001b[39m reuse_renderer = (\u001b[38;5;28mself\u001b[39m._lastKey == key)\n\u001b[32m    391\u001b[39m \u001b[38;5;28;01mif\u001b[39;00m \u001b[38;5;129;01mnot\u001b[39;00m reuse_renderer:\n\u001b[32m--> \u001b[39m\u001b[32m392\u001b[39m     \u001b[38;5;28mself\u001b[39m.renderer = RendererAgg(w, h, \u001b[38;5;28mself\u001b[39m.figure.dpi)\n\u001b[32m    393\u001b[39m     \u001b[38;5;28mself\u001b[39m._lastKey = key\n\u001b[32m    394\u001b[39m \u001b[38;5;28;01mreturn\u001b[39;00m \u001b[38;5;28mself\u001b[39m.renderer\n",
      "\u001b[36mFile \u001b[39m\u001b[32mC:\\Anaconda\\envs\\tema_numpy\\Lib\\site-packages\\matplotlib\\backends\\backend_agg.py:69\u001b[39m, in \u001b[36mRendererAgg.__init__\u001b[39m\u001b[34m(self, width, height, dpi)\u001b[39m\n\u001b[32m     67\u001b[39m \u001b[38;5;28mself\u001b[39m.width = width\n\u001b[32m     68\u001b[39m \u001b[38;5;28mself\u001b[39m.height = height\n\u001b[32m---> \u001b[39m\u001b[32m69\u001b[39m \u001b[38;5;28mself\u001b[39m._renderer = _RendererAgg(\u001b[38;5;28mint\u001b[39m(width), \u001b[38;5;28mint\u001b[39m(height), dpi)\n\u001b[32m     70\u001b[39m \u001b[38;5;28mself\u001b[39m._filter_renderers = []\n\u001b[32m     72\u001b[39m \u001b[38;5;28mself\u001b[39m._update_methods()\n",
      "\u001b[31mMemoryError\u001b[39m: bad allocation"
     ]
    }
   ],
   "source": [
    "data = data.reset_index(drop=True)"
   ]
  },
  {
   "cell_type": "markdown",
   "id": "7991949d-3949-4763-b1bf-09181f860ea1",
   "metadata": {},
   "source": [
    "## EDA - Exploratory Data Analysis"
   ]
  },
  {
   "cell_type": "markdown",
   "id": "1d78ddca-813c-4bb8-8114-225fc0938e2d",
   "metadata": {},
   "source": [
    "### View data statistics - short format"
   ]
  },
  {
   "cell_type": "code",
   "execution_count": 402,
   "id": "0f6690b3-8283-4136-98f0-d6bbaae8ef3b",
   "metadata": {},
   "outputs": [
    {
     "data": {
      "text/html": [
       "<div>\n",
       "<style scoped>\n",
       "    .dataframe tbody tr th:only-of-type {\n",
       "        vertical-align: middle;\n",
       "    }\n",
       "\n",
       "    .dataframe tbody tr th {\n",
       "        vertical-align: top;\n",
       "    }\n",
       "\n",
       "    .dataframe thead th {\n",
       "        text-align: right;\n",
       "    }\n",
       "</style>\n",
       "<table border=\"1\" class=\"dataframe\">\n",
       "  <thead>\n",
       "    <tr style=\"text-align: right;\">\n",
       "      <th></th>\n",
       "      <th>JoiningYear</th>\n",
       "      <th>PaymentTier</th>\n",
       "      <th>Age</th>\n",
       "      <th>ExperienceInCurrentDomain</th>\n",
       "      <th>LeaveOrNot</th>\n",
       "    </tr>\n",
       "  </thead>\n",
       "  <tbody>\n",
       "    <tr>\n",
       "      <th>count</th>\n",
       "      <td>4653.000000</td>\n",
       "      <td>4653.000000</td>\n",
       "      <td>4653.000000</td>\n",
       "      <td>4653.000000</td>\n",
       "      <td>4653.000000</td>\n",
       "    </tr>\n",
       "    <tr>\n",
       "      <th>mean</th>\n",
       "      <td>2015.062970</td>\n",
       "      <td>2.698259</td>\n",
       "      <td>29.393295</td>\n",
       "      <td>2.905652</td>\n",
       "      <td>0.343864</td>\n",
       "    </tr>\n",
       "    <tr>\n",
       "      <th>std</th>\n",
       "      <td>1.863377</td>\n",
       "      <td>0.561435</td>\n",
       "      <td>4.826087</td>\n",
       "      <td>1.558240</td>\n",
       "      <td>0.475047</td>\n",
       "    </tr>\n",
       "    <tr>\n",
       "      <th>min</th>\n",
       "      <td>2012.000000</td>\n",
       "      <td>1.000000</td>\n",
       "      <td>22.000000</td>\n",
       "      <td>0.000000</td>\n",
       "      <td>0.000000</td>\n",
       "    </tr>\n",
       "    <tr>\n",
       "      <th>25%</th>\n",
       "      <td>2013.000000</td>\n",
       "      <td>3.000000</td>\n",
       "      <td>26.000000</td>\n",
       "      <td>2.000000</td>\n",
       "      <td>0.000000</td>\n",
       "    </tr>\n",
       "    <tr>\n",
       "      <th>50%</th>\n",
       "      <td>2015.000000</td>\n",
       "      <td>3.000000</td>\n",
       "      <td>28.000000</td>\n",
       "      <td>3.000000</td>\n",
       "      <td>0.000000</td>\n",
       "    </tr>\n",
       "    <tr>\n",
       "      <th>75%</th>\n",
       "      <td>2017.000000</td>\n",
       "      <td>3.000000</td>\n",
       "      <td>32.000000</td>\n",
       "      <td>4.000000</td>\n",
       "      <td>1.000000</td>\n",
       "    </tr>\n",
       "    <tr>\n",
       "      <th>max</th>\n",
       "      <td>2018.000000</td>\n",
       "      <td>3.000000</td>\n",
       "      <td>41.000000</td>\n",
       "      <td>7.000000</td>\n",
       "      <td>1.000000</td>\n",
       "    </tr>\n",
       "  </tbody>\n",
       "</table>\n",
       "</div>"
      ],
      "text/plain": [
       "       JoiningYear  PaymentTier          Age  ExperienceInCurrentDomain  \\\n",
       "count  4653.000000  4653.000000  4653.000000                4653.000000   \n",
       "mean   2015.062970     2.698259    29.393295                   2.905652   \n",
       "std       1.863377     0.561435     4.826087                   1.558240   \n",
       "min    2012.000000     1.000000    22.000000                   0.000000   \n",
       "25%    2013.000000     3.000000    26.000000                   2.000000   \n",
       "50%    2015.000000     3.000000    28.000000                   3.000000   \n",
       "75%    2017.000000     3.000000    32.000000                   4.000000   \n",
       "max    2018.000000     3.000000    41.000000                   7.000000   \n",
       "\n",
       "        LeaveOrNot  \n",
       "count  4653.000000  \n",
       "mean      0.343864  \n",
       "std       0.475047  \n",
       "min       0.000000  \n",
       "25%       0.000000  \n",
       "50%       0.000000  \n",
       "75%       1.000000  \n",
       "max       1.000000  "
      ]
     },
     "execution_count": 402,
     "metadata": {},
     "output_type": "execute_result"
    },
    {
     "name": "stdout",
     "output_type": "stream",
     "text": [
      "Error in callback <function _draw_all_if_interactive at 0x0000018084A99800> (for post_execute), with arguments args (),kwargs {}:\n"
     ]
    },
    {
     "ename": "MemoryError",
     "evalue": "bad allocation",
     "output_type": "error",
     "traceback": [
      "\u001b[31m---------------------------------------------------------------------------\u001b[39m",
      "\u001b[31mMemoryError\u001b[39m                               Traceback (most recent call last)",
      "\u001b[36mFile \u001b[39m\u001b[32mC:\\Anaconda\\envs\\tema_numpy\\Lib\\site-packages\\matplotlib\\pyplot.py:279\u001b[39m, in \u001b[36m_draw_all_if_interactive\u001b[39m\u001b[34m()\u001b[39m\n\u001b[32m    277\u001b[39m \u001b[38;5;28;01mdef\u001b[39;00m\u001b[38;5;250m \u001b[39m\u001b[34m_draw_all_if_interactive\u001b[39m() -> \u001b[38;5;28;01mNone\u001b[39;00m:\n\u001b[32m    278\u001b[39m     \u001b[38;5;28;01mif\u001b[39;00m matplotlib.is_interactive():\n\u001b[32m--> \u001b[39m\u001b[32m279\u001b[39m         draw_all()\n",
      "\u001b[36mFile \u001b[39m\u001b[32mC:\\Anaconda\\envs\\tema_numpy\\Lib\\site-packages\\matplotlib\\_pylab_helpers.py:131\u001b[39m, in \u001b[36mGcf.draw_all\u001b[39m\u001b[34m(cls, force)\u001b[39m\n\u001b[32m    129\u001b[39m \u001b[38;5;28;01mfor\u001b[39;00m manager \u001b[38;5;129;01min\u001b[39;00m \u001b[38;5;28mcls\u001b[39m.get_all_fig_managers():\n\u001b[32m    130\u001b[39m     \u001b[38;5;28;01mif\u001b[39;00m force \u001b[38;5;129;01mor\u001b[39;00m manager.canvas.figure.stale:\n\u001b[32m--> \u001b[39m\u001b[32m131\u001b[39m         manager.canvas.draw_idle()\n",
      "\u001b[36mFile \u001b[39m\u001b[32mC:\\Anaconda\\envs\\tema_numpy\\Lib\\site-packages\\matplotlib\\backend_bases.py:1891\u001b[39m, in \u001b[36mFigureCanvasBase.draw_idle\u001b[39m\u001b[34m(self, *args, **kwargs)\u001b[39m\n\u001b[32m   1889\u001b[39m \u001b[38;5;28;01mif\u001b[39;00m \u001b[38;5;129;01mnot\u001b[39;00m \u001b[38;5;28mself\u001b[39m._is_idle_drawing:\n\u001b[32m   1890\u001b[39m     \u001b[38;5;28;01mwith\u001b[39;00m \u001b[38;5;28mself\u001b[39m._idle_draw_cntx():\n\u001b[32m-> \u001b[39m\u001b[32m1891\u001b[39m         \u001b[38;5;28mself\u001b[39m.draw(*args, **kwargs)\n",
      "\u001b[36mFile \u001b[39m\u001b[32mC:\\Anaconda\\envs\\tema_numpy\\Lib\\site-packages\\matplotlib\\backends\\backend_agg.py:377\u001b[39m, in \u001b[36mFigureCanvasAgg.draw\u001b[39m\u001b[34m(self)\u001b[39m\n\u001b[32m    375\u001b[39m \u001b[38;5;28;01mdef\u001b[39;00m\u001b[38;5;250m \u001b[39m\u001b[34mdraw\u001b[39m(\u001b[38;5;28mself\u001b[39m):\n\u001b[32m    376\u001b[39m     \u001b[38;5;66;03m# docstring inherited\u001b[39;00m\n\u001b[32m--> \u001b[39m\u001b[32m377\u001b[39m     \u001b[38;5;28mself\u001b[39m.renderer = \u001b[38;5;28mself\u001b[39m.get_renderer()\n\u001b[32m    378\u001b[39m     \u001b[38;5;28mself\u001b[39m.renderer.clear()\n\u001b[32m    379\u001b[39m     \u001b[38;5;66;03m# Acquire a lock on the shared font cache.\u001b[39;00m\n",
      "\u001b[36mFile \u001b[39m\u001b[32mC:\\Anaconda\\envs\\tema_numpy\\Lib\\site-packages\\matplotlib\\backends\\backend_agg.py:392\u001b[39m, in \u001b[36mFigureCanvasAgg.get_renderer\u001b[39m\u001b[34m(self)\u001b[39m\n\u001b[32m    390\u001b[39m reuse_renderer = (\u001b[38;5;28mself\u001b[39m._lastKey == key)\n\u001b[32m    391\u001b[39m \u001b[38;5;28;01mif\u001b[39;00m \u001b[38;5;129;01mnot\u001b[39;00m reuse_renderer:\n\u001b[32m--> \u001b[39m\u001b[32m392\u001b[39m     \u001b[38;5;28mself\u001b[39m.renderer = RendererAgg(w, h, \u001b[38;5;28mself\u001b[39m.figure.dpi)\n\u001b[32m    393\u001b[39m     \u001b[38;5;28mself\u001b[39m._lastKey = key\n\u001b[32m    394\u001b[39m \u001b[38;5;28;01mreturn\u001b[39;00m \u001b[38;5;28mself\u001b[39m.renderer\n",
      "\u001b[36mFile \u001b[39m\u001b[32mC:\\Anaconda\\envs\\tema_numpy\\Lib\\site-packages\\matplotlib\\backends\\backend_agg.py:69\u001b[39m, in \u001b[36mRendererAgg.__init__\u001b[39m\u001b[34m(self, width, height, dpi)\u001b[39m\n\u001b[32m     67\u001b[39m \u001b[38;5;28mself\u001b[39m.width = width\n\u001b[32m     68\u001b[39m \u001b[38;5;28mself\u001b[39m.height = height\n\u001b[32m---> \u001b[39m\u001b[32m69\u001b[39m \u001b[38;5;28mself\u001b[39m._renderer = _RendererAgg(\u001b[38;5;28mint\u001b[39m(width), \u001b[38;5;28mint\u001b[39m(height), dpi)\n\u001b[32m     70\u001b[39m \u001b[38;5;28mself\u001b[39m._filter_renderers = []\n\u001b[32m     72\u001b[39m \u001b[38;5;28mself\u001b[39m._update_methods()\n",
      "\u001b[31mMemoryError\u001b[39m: bad allocation"
     ]
    }
   ],
   "source": [
    "data.describe()"
   ]
  },
  {
   "cell_type": "markdown",
   "id": "7618f976-099f-4e24-bed0-1fcc2c312ddb",
   "metadata": {},
   "source": [
    "### View data statistics - long format"
   ]
  },
  {
   "cell_type": "code",
   "execution_count": 404,
   "id": "b69e3dbd-566c-46e1-84ed-ba8869e37e48",
   "metadata": {},
   "outputs": [
    {
     "name": "stdout",
     "output_type": "stream",
     "text": [
      "Error in callback <function _draw_all_if_interactive at 0x0000018084A99800> (for post_execute), with arguments args (),kwargs {}:\n"
     ]
    },
    {
     "ename": "MemoryError",
     "evalue": "bad allocation",
     "output_type": "error",
     "traceback": [
      "\u001b[31m---------------------------------------------------------------------------\u001b[39m",
      "\u001b[31mMemoryError\u001b[39m                               Traceback (most recent call last)",
      "\u001b[36mFile \u001b[39m\u001b[32mC:\\Anaconda\\envs\\tema_numpy\\Lib\\site-packages\\matplotlib\\pyplot.py:279\u001b[39m, in \u001b[36m_draw_all_if_interactive\u001b[39m\u001b[34m()\u001b[39m\n\u001b[32m    277\u001b[39m \u001b[38;5;28;01mdef\u001b[39;00m\u001b[38;5;250m \u001b[39m\u001b[34m_draw_all_if_interactive\u001b[39m() -> \u001b[38;5;28;01mNone\u001b[39;00m:\n\u001b[32m    278\u001b[39m     \u001b[38;5;28;01mif\u001b[39;00m matplotlib.is_interactive():\n\u001b[32m--> \u001b[39m\u001b[32m279\u001b[39m         draw_all()\n",
      "\u001b[36mFile \u001b[39m\u001b[32mC:\\Anaconda\\envs\\tema_numpy\\Lib\\site-packages\\matplotlib\\_pylab_helpers.py:131\u001b[39m, in \u001b[36mGcf.draw_all\u001b[39m\u001b[34m(cls, force)\u001b[39m\n\u001b[32m    129\u001b[39m \u001b[38;5;28;01mfor\u001b[39;00m manager \u001b[38;5;129;01min\u001b[39;00m \u001b[38;5;28mcls\u001b[39m.get_all_fig_managers():\n\u001b[32m    130\u001b[39m     \u001b[38;5;28;01mif\u001b[39;00m force \u001b[38;5;129;01mor\u001b[39;00m manager.canvas.figure.stale:\n\u001b[32m--> \u001b[39m\u001b[32m131\u001b[39m         manager.canvas.draw_idle()\n",
      "\u001b[36mFile \u001b[39m\u001b[32mC:\\Anaconda\\envs\\tema_numpy\\Lib\\site-packages\\matplotlib\\backend_bases.py:1891\u001b[39m, in \u001b[36mFigureCanvasBase.draw_idle\u001b[39m\u001b[34m(self, *args, **kwargs)\u001b[39m\n\u001b[32m   1889\u001b[39m \u001b[38;5;28;01mif\u001b[39;00m \u001b[38;5;129;01mnot\u001b[39;00m \u001b[38;5;28mself\u001b[39m._is_idle_drawing:\n\u001b[32m   1890\u001b[39m     \u001b[38;5;28;01mwith\u001b[39;00m \u001b[38;5;28mself\u001b[39m._idle_draw_cntx():\n\u001b[32m-> \u001b[39m\u001b[32m1891\u001b[39m         \u001b[38;5;28mself\u001b[39m.draw(*args, **kwargs)\n",
      "\u001b[36mFile \u001b[39m\u001b[32mC:\\Anaconda\\envs\\tema_numpy\\Lib\\site-packages\\matplotlib\\backends\\backend_agg.py:377\u001b[39m, in \u001b[36mFigureCanvasAgg.draw\u001b[39m\u001b[34m(self)\u001b[39m\n\u001b[32m    375\u001b[39m \u001b[38;5;28;01mdef\u001b[39;00m\u001b[38;5;250m \u001b[39m\u001b[34mdraw\u001b[39m(\u001b[38;5;28mself\u001b[39m):\n\u001b[32m    376\u001b[39m     \u001b[38;5;66;03m# docstring inherited\u001b[39;00m\n\u001b[32m--> \u001b[39m\u001b[32m377\u001b[39m     \u001b[38;5;28mself\u001b[39m.renderer = \u001b[38;5;28mself\u001b[39m.get_renderer()\n\u001b[32m    378\u001b[39m     \u001b[38;5;28mself\u001b[39m.renderer.clear()\n\u001b[32m    379\u001b[39m     \u001b[38;5;66;03m# Acquire a lock on the shared font cache.\u001b[39;00m\n",
      "\u001b[36mFile \u001b[39m\u001b[32mC:\\Anaconda\\envs\\tema_numpy\\Lib\\site-packages\\matplotlib\\backends\\backend_agg.py:392\u001b[39m, in \u001b[36mFigureCanvasAgg.get_renderer\u001b[39m\u001b[34m(self)\u001b[39m\n\u001b[32m    390\u001b[39m reuse_renderer = (\u001b[38;5;28mself\u001b[39m._lastKey == key)\n\u001b[32m    391\u001b[39m \u001b[38;5;28;01mif\u001b[39;00m \u001b[38;5;129;01mnot\u001b[39;00m reuse_renderer:\n\u001b[32m--> \u001b[39m\u001b[32m392\u001b[39m     \u001b[38;5;28mself\u001b[39m.renderer = RendererAgg(w, h, \u001b[38;5;28mself\u001b[39m.figure.dpi)\n\u001b[32m    393\u001b[39m     \u001b[38;5;28mself\u001b[39m._lastKey = key\n\u001b[32m    394\u001b[39m \u001b[38;5;28;01mreturn\u001b[39;00m \u001b[38;5;28mself\u001b[39m.renderer\n",
      "\u001b[36mFile \u001b[39m\u001b[32mC:\\Anaconda\\envs\\tema_numpy\\Lib\\site-packages\\matplotlib\\backends\\backend_agg.py:69\u001b[39m, in \u001b[36mRendererAgg.__init__\u001b[39m\u001b[34m(self, width, height, dpi)\u001b[39m\n\u001b[32m     67\u001b[39m \u001b[38;5;28mself\u001b[39m.width = width\n\u001b[32m     68\u001b[39m \u001b[38;5;28mself\u001b[39m.height = height\n\u001b[32m---> \u001b[39m\u001b[32m69\u001b[39m \u001b[38;5;28mself\u001b[39m._renderer = _RendererAgg(\u001b[38;5;28mint\u001b[39m(width), \u001b[38;5;28mint\u001b[39m(height), dpi)\n\u001b[32m     70\u001b[39m \u001b[38;5;28mself\u001b[39m._filter_renderers = []\n\u001b[32m     72\u001b[39m \u001b[38;5;28mself\u001b[39m._update_methods()\n",
      "\u001b[31mMemoryError\u001b[39m: bad allocation"
     ]
    }
   ],
   "source": [
    "profile = ProfileReport(data, title=\"Employee\")"
   ]
  },
  {
   "cell_type": "code",
   "execution_count": null,
   "id": "9de10b8f-3758-4299-9f6c-ce21151f73c6",
   "metadata": {},
   "outputs": [
    {
     "data": {
      "application/vnd.jupyter.widget-view+json": {
       "model_id": "162c53d378064335b134b909a8ecaa55",
       "version_major": 2,
       "version_minor": 0
      },
      "text/plain": [
       "Summarize dataset:   0%|          | 0/5 [00:00<?, ?it/s]"
      ]
     },
     "metadata": {},
     "output_type": "display_data"
    },
    {
     "name": "stderr",
     "output_type": "stream",
     "text": [
      "\n",
      "100%|███████████████████████████████████████████████████████████████████████████████████| 9/9 [00:00<00:00, 188.87it/s]\u001b[A\n"
     ]
    },
    {
     "ename": "MemoryError",
     "evalue": "bad allocation",
     "output_type": "error",
     "traceback": [
      "\u001b[31m---------------------------------------------------------------------------\u001b[39m",
      "\u001b[31mMemoryError\u001b[39m                               Traceback (most recent call last)",
      "\u001b[36mFile \u001b[39m\u001b[32mC:\\Anaconda\\envs\\tema_numpy\\Lib\\site-packages\\IPython\\core\\formatters.py:406\u001b[39m, in \u001b[36mBaseFormatter.__call__\u001b[39m\u001b[34m(self, obj)\u001b[39m\n\u001b[32m    404\u001b[39m     method = get_real_method(obj, \u001b[38;5;28mself\u001b[39m.print_method)\n\u001b[32m    405\u001b[39m     \u001b[38;5;28;01mif\u001b[39;00m method \u001b[38;5;129;01mis\u001b[39;00m \u001b[38;5;129;01mnot\u001b[39;00m \u001b[38;5;28;01mNone\u001b[39;00m:\n\u001b[32m--> \u001b[39m\u001b[32m406\u001b[39m         \u001b[38;5;28;01mreturn\u001b[39;00m method()\n\u001b[32m    407\u001b[39m     \u001b[38;5;28;01mreturn\u001b[39;00m \u001b[38;5;28;01mNone\u001b[39;00m\n\u001b[32m    408\u001b[39m \u001b[38;5;28;01melse\u001b[39;00m:\n",
      "\u001b[36mFile \u001b[39m\u001b[32mC:\\Anaconda\\envs\\tema_numpy\\Lib\\site-packages\\ydata_profiling\\profile_report.py:548\u001b[39m, in \u001b[36mProfileReport._repr_html_\u001b[39m\u001b[34m(self)\u001b[39m\n\u001b[32m    546\u001b[39m \u001b[38;5;28;01mdef\u001b[39;00m\u001b[38;5;250m \u001b[39m\u001b[34m_repr_html_\u001b[39m(\u001b[38;5;28mself\u001b[39m) -> \u001b[38;5;28;01mNone\u001b[39;00m:\n\u001b[32m    547\u001b[39m \u001b[38;5;250m    \u001b[39m\u001b[33;03m\"\"\"The ipython notebook widgets user interface gets called by the jupyter notebook.\"\"\"\u001b[39;00m\n\u001b[32m--> \u001b[39m\u001b[32m548\u001b[39m     \u001b[38;5;28mself\u001b[39m.to_notebook_iframe()\n",
      "\u001b[36mFile \u001b[39m\u001b[32mC:\\Anaconda\\envs\\tema_numpy\\Lib\\site-packages\\ydata_profiling\\profile_report.py:528\u001b[39m, in \u001b[36mProfileReport.to_notebook_iframe\u001b[39m\u001b[34m(self)\u001b[39m\n\u001b[32m    526\u001b[39m \u001b[38;5;28;01mwith\u001b[39;00m warnings.catch_warnings():\n\u001b[32m    527\u001b[39m     warnings.simplefilter(\u001b[33m\"\u001b[39m\u001b[33mignore\u001b[39m\u001b[33m\"\u001b[39m)\n\u001b[32m--> \u001b[39m\u001b[32m528\u001b[39m     display(get_notebook_iframe(\u001b[38;5;28mself\u001b[39m.config, \u001b[38;5;28mself\u001b[39m))\n",
      "\u001b[36mFile \u001b[39m\u001b[32mC:\\Anaconda\\envs\\tema_numpy\\Lib\\site-packages\\ydata_profiling\\report\\presentation\\flavours\\widget\\notebook.py:75\u001b[39m, in \u001b[36mget_notebook_iframe\u001b[39m\u001b[34m(config, profile)\u001b[39m\n\u001b[32m     73\u001b[39m     output = get_notebook_iframe_src(config, profile)\n\u001b[32m     74\u001b[39m \u001b[38;5;28;01melif\u001b[39;00m attribute == IframeAttribute.srcdoc:\n\u001b[32m---> \u001b[39m\u001b[32m75\u001b[39m     output = get_notebook_iframe_srcdoc(config, profile)\n\u001b[32m     76\u001b[39m \u001b[38;5;28;01melse\u001b[39;00m:\n\u001b[32m     77\u001b[39m     \u001b[38;5;28;01mraise\u001b[39;00m \u001b[38;5;167;01mValueError\u001b[39;00m(\n\u001b[32m     78\u001b[39m         \u001b[33mf\u001b[39m\u001b[33m'\u001b[39m\u001b[33mIframe Attribute can be \u001b[39m\u001b[33m\"\u001b[39m\u001b[33msrc\u001b[39m\u001b[33m\"\u001b[39m\u001b[33m or \u001b[39m\u001b[33m\"\u001b[39m\u001b[33msrcdoc\u001b[39m\u001b[33m\"\u001b[39m\u001b[33m (current: \u001b[39m\u001b[38;5;132;01m{\u001b[39;00mattribute\u001b[38;5;132;01m}\u001b[39;00m\u001b[33m).\u001b[39m\u001b[33m'\u001b[39m\n\u001b[32m     79\u001b[39m     )\n",
      "\u001b[36mFile \u001b[39m\u001b[32mC:\\Anaconda\\envs\\tema_numpy\\Lib\\site-packages\\ydata_profiling\\report\\presentation\\flavours\\widget\\notebook.py:29\u001b[39m, in \u001b[36mget_notebook_iframe_srcdoc\u001b[39m\u001b[34m(config, profile)\u001b[39m\n\u001b[32m     27\u001b[39m width = config.notebook.iframe.width\n\u001b[32m     28\u001b[39m height = config.notebook.iframe.height\n\u001b[32m---> \u001b[39m\u001b[32m29\u001b[39m src = html.escape(profile.to_html())\n\u001b[32m     31\u001b[39m iframe = \u001b[33mf\u001b[39m\u001b[33m'\u001b[39m\u001b[33m<iframe width=\u001b[39m\u001b[33m\"\u001b[39m\u001b[38;5;132;01m{\u001b[39;00mwidth\u001b[38;5;132;01m}\u001b[39;00m\u001b[33m\"\u001b[39m\u001b[33m height=\u001b[39m\u001b[33m\"\u001b[39m\u001b[38;5;132;01m{\u001b[39;00mheight\u001b[38;5;132;01m}\u001b[39;00m\u001b[33m\"\u001b[39m\u001b[33m srcdoc=\u001b[39m\u001b[33m\"\u001b[39m\u001b[38;5;132;01m{\u001b[39;00msrc\u001b[38;5;132;01m}\u001b[39;00m\u001b[33m\"\u001b[39m\u001b[33m frameborder=\u001b[39m\u001b[33m\"\u001b[39m\u001b[33m0\u001b[39m\u001b[33m\"\u001b[39m\u001b[33m allowfullscreen></iframe>\u001b[39m\u001b[33m'\u001b[39m\n\u001b[32m     33\u001b[39m \u001b[38;5;28;01mreturn\u001b[39;00m HTML(iframe)\n",
      "\u001b[36mFile \u001b[39m\u001b[32mC:\\Anaconda\\envs\\tema_numpy\\Lib\\site-packages\\ydata_profiling\\profile_report.py:498\u001b[39m, in \u001b[36mProfileReport.to_html\u001b[39m\u001b[34m(self)\u001b[39m\n\u001b[32m    490\u001b[39m \u001b[38;5;28;01mdef\u001b[39;00m\u001b[38;5;250m \u001b[39m\u001b[34mto_html\u001b[39m(\u001b[38;5;28mself\u001b[39m) -> \u001b[38;5;28mstr\u001b[39m:\n\u001b[32m    491\u001b[39m \u001b[38;5;250m    \u001b[39m\u001b[33;03m\"\"\"Generate and return complete template as lengthy string\u001b[39;00m\n\u001b[32m    492\u001b[39m \u001b[33;03m        for using with frameworks.\u001b[39;00m\n\u001b[32m    493\u001b[39m \n\u001b[32m   (...)\u001b[39m\u001b[32m    496\u001b[39m \n\u001b[32m    497\u001b[39m \u001b[33;03m    \"\"\"\u001b[39;00m\n\u001b[32m--> \u001b[39m\u001b[32m498\u001b[39m     \u001b[38;5;28;01mreturn\u001b[39;00m \u001b[38;5;28mself\u001b[39m.html\n",
      "\u001b[36mFile \u001b[39m\u001b[32mC:\\Anaconda\\envs\\tema_numpy\\Lib\\site-packages\\ydata_profiling\\profile_report.py:294\u001b[39m, in \u001b[36mProfileReport.html\u001b[39m\u001b[34m(self)\u001b[39m\n\u001b[32m    291\u001b[39m \u001b[38;5;129m@property\u001b[39m\n\u001b[32m    292\u001b[39m \u001b[38;5;28;01mdef\u001b[39;00m\u001b[38;5;250m \u001b[39m\u001b[34mhtml\u001b[39m(\u001b[38;5;28mself\u001b[39m) -> \u001b[38;5;28mstr\u001b[39m:\n\u001b[32m    293\u001b[39m     \u001b[38;5;28;01mif\u001b[39;00m \u001b[38;5;28mself\u001b[39m._html \u001b[38;5;129;01mis\u001b[39;00m \u001b[38;5;28;01mNone\u001b[39;00m:\n\u001b[32m--> \u001b[39m\u001b[32m294\u001b[39m         \u001b[38;5;28mself\u001b[39m._html = \u001b[38;5;28mself\u001b[39m._render_html()\n\u001b[32m    295\u001b[39m     \u001b[38;5;28;01mreturn\u001b[39;00m \u001b[38;5;28mself\u001b[39m._html\n",
      "\u001b[36mFile \u001b[39m\u001b[32mC:\\Anaconda\\envs\\tema_numpy\\Lib\\site-packages\\ydata_profiling\\profile_report.py:411\u001b[39m, in \u001b[36mProfileReport._render_html\u001b[39m\u001b[34m(self)\u001b[39m\n\u001b[32m    408\u001b[39m \u001b[38;5;28;01mdef\u001b[39;00m\u001b[38;5;250m \u001b[39m\u001b[34m_render_html\u001b[39m(\u001b[38;5;28mself\u001b[39m) -> \u001b[38;5;28mstr\u001b[39m:\n\u001b[32m    409\u001b[39m     \u001b[38;5;28;01mfrom\u001b[39;00m\u001b[38;5;250m \u001b[39m\u001b[34;01mydata_profiling\u001b[39;00m\u001b[34;01m.\u001b[39;00m\u001b[34;01mreport\u001b[39;00m\u001b[34;01m.\u001b[39;00m\u001b[34;01mpresentation\u001b[39;00m\u001b[34;01m.\u001b[39;00m\u001b[34;01mflavours\u001b[39;00m\u001b[38;5;250m \u001b[39m\u001b[38;5;28;01mimport\u001b[39;00m HTMLReport\n\u001b[32m--> \u001b[39m\u001b[32m411\u001b[39m     report = \u001b[38;5;28mself\u001b[39m.report\n\u001b[32m    413\u001b[39m     \u001b[38;5;28;01mwith\u001b[39;00m tqdm(\n\u001b[32m    414\u001b[39m         total=\u001b[32m1\u001b[39m, desc=\u001b[33m\"\u001b[39m\u001b[33mRender HTML\u001b[39m\u001b[33m\"\u001b[39m, disable=\u001b[38;5;129;01mnot\u001b[39;00m \u001b[38;5;28mself\u001b[39m.config.progress_bar\n\u001b[32m    415\u001b[39m     ) \u001b[38;5;28;01mas\u001b[39;00m pbar:\n\u001b[32m    416\u001b[39m         html = HTMLReport(copy.deepcopy(report)).render(\n\u001b[32m    417\u001b[39m             nav=\u001b[38;5;28mself\u001b[39m.config.html.navbar_show,\n\u001b[32m    418\u001b[39m             offline=\u001b[38;5;28mself\u001b[39m.config.html.use_local_assets,\n\u001b[32m   (...)\u001b[39m\u001b[32m    426\u001b[39m             version=\u001b[38;5;28mself\u001b[39m.description_set.package[\u001b[33m\"\u001b[39m\u001b[33mydata_profiling_version\u001b[39m\u001b[33m\"\u001b[39m],\n\u001b[32m    427\u001b[39m         )\n",
      "\u001b[36mFile \u001b[39m\u001b[32mC:\\Anaconda\\envs\\tema_numpy\\Lib\\site-packages\\ydata_profiling\\profile_report.py:288\u001b[39m, in \u001b[36mProfileReport.report\u001b[39m\u001b[34m(self)\u001b[39m\n\u001b[32m    285\u001b[39m \u001b[38;5;129m@property\u001b[39m\n\u001b[32m    286\u001b[39m \u001b[38;5;28;01mdef\u001b[39;00m\u001b[38;5;250m \u001b[39m\u001b[34mreport\u001b[39m(\u001b[38;5;28mself\u001b[39m) -> Root:\n\u001b[32m    287\u001b[39m     \u001b[38;5;28;01mif\u001b[39;00m \u001b[38;5;28mself\u001b[39m._report \u001b[38;5;129;01mis\u001b[39;00m \u001b[38;5;28;01mNone\u001b[39;00m:\n\u001b[32m--> \u001b[39m\u001b[32m288\u001b[39m         \u001b[38;5;28mself\u001b[39m._report = get_report_structure(\u001b[38;5;28mself\u001b[39m.config, \u001b[38;5;28mself\u001b[39m.description_set)\n\u001b[32m    289\u001b[39m     \u001b[38;5;28;01mreturn\u001b[39;00m \u001b[38;5;28mself\u001b[39m._report\n",
      "\u001b[36mFile \u001b[39m\u001b[32mC:\\Anaconda\\envs\\tema_numpy\\Lib\\site-packages\\ydata_profiling\\profile_report.py:270\u001b[39m, in \u001b[36mProfileReport.description_set\u001b[39m\u001b[34m(self)\u001b[39m\n\u001b[32m    267\u001b[39m \u001b[38;5;129m@property\u001b[39m\n\u001b[32m    268\u001b[39m \u001b[38;5;28;01mdef\u001b[39;00m\u001b[38;5;250m \u001b[39m\u001b[34mdescription_set\u001b[39m(\u001b[38;5;28mself\u001b[39m) -> BaseDescription:\n\u001b[32m    269\u001b[39m     \u001b[38;5;28;01mif\u001b[39;00m \u001b[38;5;28mself\u001b[39m._description_set \u001b[38;5;129;01mis\u001b[39;00m \u001b[38;5;28;01mNone\u001b[39;00m:\n\u001b[32m--> \u001b[39m\u001b[32m270\u001b[39m         \u001b[38;5;28mself\u001b[39m._description_set = describe_df(\n\u001b[32m    271\u001b[39m             \u001b[38;5;28mself\u001b[39m.config,\n\u001b[32m    272\u001b[39m             \u001b[38;5;28mself\u001b[39m.df,\n\u001b[32m    273\u001b[39m             \u001b[38;5;28mself\u001b[39m.summarizer,\n\u001b[32m    274\u001b[39m             \u001b[38;5;28mself\u001b[39m.typeset,\n\u001b[32m    275\u001b[39m             \u001b[38;5;28mself\u001b[39m._sample,\n\u001b[32m    276\u001b[39m         )\n\u001b[32m    277\u001b[39m     \u001b[38;5;28;01mreturn\u001b[39;00m \u001b[38;5;28mself\u001b[39m._description_set\n",
      "\u001b[36mFile \u001b[39m\u001b[32mC:\\Anaconda\\envs\\tema_numpy\\Lib\\site-packages\\ydata_profiling\\model\\describe.py:145\u001b[39m, in \u001b[36mdescribe\u001b[39m\u001b[34m(config, df, summarizer, typeset, sample)\u001b[39m\n\u001b[32m    141\u001b[39m scatter_matrix: Dict[Any, Dict[Any, Any]] = {\n\u001b[32m    142\u001b[39m     x: {y: \u001b[38;5;28;01mNone\u001b[39;00m} \u001b[38;5;28;01mfor\u001b[39;00m x, y \u001b[38;5;129;01min\u001b[39;00m scatter_tasks\n\u001b[32m    143\u001b[39m }\n\u001b[32m    144\u001b[39m \u001b[38;5;28;01mfor\u001b[39;00m x, y \u001b[38;5;129;01min\u001b[39;00m scatter_tasks:\n\u001b[32m--> \u001b[39m\u001b[32m145\u001b[39m     scatter_matrix[x][y] = progress(\n\u001b[32m    146\u001b[39m         get_scatter_plot, pbar, \u001b[33mf\u001b[39m\u001b[33m\"\u001b[39m\u001b[33mscatter \u001b[39m\u001b[38;5;132;01m{\u001b[39;00mx\u001b[38;5;132;01m}\u001b[39;00m\u001b[33m, \u001b[39m\u001b[38;5;132;01m{\u001b[39;00my\u001b[38;5;132;01m}\u001b[39;00m\u001b[33m\"\u001b[39m\n\u001b[32m    147\u001b[39m     )(config, df, x, y, interval_columns)\n\u001b[32m    149\u001b[39m \u001b[38;5;66;03m# missing diagrams\u001b[39;00m\n\u001b[32m    150\u001b[39m missing_map = get_missing_active(config, table_stats)\n",
      "\u001b[36mFile \u001b[39m\u001b[32mC:\\Anaconda\\envs\\tema_numpy\\Lib\\site-packages\\ydata_profiling\\utils\\progress_bar.py:11\u001b[39m, in \u001b[36mprogress.<locals>.inner\u001b[39m\u001b[34m(*args, **kwargs)\u001b[39m\n\u001b[32m      8\u001b[39m \u001b[38;5;129m@wraps\u001b[39m(fn)\n\u001b[32m      9\u001b[39m \u001b[38;5;28;01mdef\u001b[39;00m\u001b[38;5;250m \u001b[39m\u001b[34minner\u001b[39m(*args, **kwargs) -> Any:\n\u001b[32m     10\u001b[39m     bar.set_postfix_str(message)\n\u001b[32m---> \u001b[39m\u001b[32m11\u001b[39m     ret = fn(*args, **kwargs)\n\u001b[32m     12\u001b[39m     bar.update()\n\u001b[32m     13\u001b[39m     \u001b[38;5;28;01mreturn\u001b[39;00m ret\n",
      "\u001b[36mFile \u001b[39m\u001b[32mC:\\Anaconda\\envs\\tema_numpy\\Lib\\site-packages\\ydata_profiling\\model\\pairwise.py:31\u001b[39m, in \u001b[36mget_scatter_plot\u001b[39m\u001b[34m(config, df, x, y, continuous_variables)\u001b[39m\n\u001b[32m     29\u001b[39m     \u001b[38;5;28;01melse\u001b[39;00m:\n\u001b[32m     30\u001b[39m         df_temp = df[[x, y]].dropna()\n\u001b[32m---> \u001b[39m\u001b[32m31\u001b[39m     \u001b[38;5;28;01mreturn\u001b[39;00m scatter_pairwise(config, df_temp[x], df_temp[y], x, y)\n\u001b[32m     32\u001b[39m \u001b[38;5;28;01melse\u001b[39;00m:\n\u001b[32m     33\u001b[39m     \u001b[38;5;28;01mreturn\u001b[39;00m \u001b[33m\"\u001b[39m\u001b[33m\"\u001b[39m\n",
      "\u001b[36mFile \u001b[39m\u001b[32mC:\\Anaconda\\envs\\tema_numpy\\Lib\\contextlib.py:81\u001b[39m, in \u001b[36mContextDecorator.__call__.<locals>.inner\u001b[39m\u001b[34m(*args, **kwds)\u001b[39m\n\u001b[32m     78\u001b[39m \u001b[38;5;129m@wraps\u001b[39m(func)\n\u001b[32m     79\u001b[39m \u001b[38;5;28;01mdef\u001b[39;00m\u001b[38;5;250m \u001b[39m\u001b[34minner\u001b[39m(*args, **kwds):\n\u001b[32m     80\u001b[39m     \u001b[38;5;28;01mwith\u001b[39;00m \u001b[38;5;28mself\u001b[39m._recreate_cm():\n\u001b[32m---> \u001b[39m\u001b[32m81\u001b[39m         \u001b[38;5;28;01mreturn\u001b[39;00m func(*args, **kwds)\n",
      "\u001b[36mFile \u001b[39m\u001b[32mC:\\Anaconda\\envs\\tema_numpy\\Lib\\site-packages\\ydata_profiling\\visualisation\\plot.py:374\u001b[39m, in \u001b[36mscatter_pairwise\u001b[39m\u001b[34m(config, series1, series2, x_label, y_label)\u001b[39m\n\u001b[32m    372\u001b[39m \u001b[38;5;28;01melse\u001b[39;00m:\n\u001b[32m    373\u001b[39m     plt.scatter(series1[indices], series2[indices], color=color)\n\u001b[32m--> \u001b[39m\u001b[32m374\u001b[39m \u001b[38;5;28;01mreturn\u001b[39;00m plot_360_n0sc0pe(config)\n",
      "\u001b[36mFile \u001b[39m\u001b[32mC:\\Anaconda\\envs\\tema_numpy\\Lib\\site-packages\\ydata_profiling\\visualisation\\utils.py:73\u001b[39m, in \u001b[36mplot_360_n0sc0pe\u001b[39m\u001b[34m(config, image_format, bbox_extra_artists, bbox_inches)\u001b[39m\n\u001b[32m     70\u001b[39m \u001b[38;5;28;01mif\u001b[39;00m image_format == \u001b[33m\"\u001b[39m\u001b[33msvg\u001b[39m\u001b[33m\"\u001b[39m:\n\u001b[32m     71\u001b[39m     image_str = StringIO()\n\u001b[32m---> \u001b[39m\u001b[32m73\u001b[39m     plt.savefig(\n\u001b[32m     74\u001b[39m         image_str,\n\u001b[32m     75\u001b[39m         \u001b[38;5;28mformat\u001b[39m=image_format,\n\u001b[32m     76\u001b[39m         bbox_extra_artists=bbox_extra_artists,\n\u001b[32m     77\u001b[39m         bbox_inches=bbox_inches,\n\u001b[32m     78\u001b[39m     )\n\u001b[32m     79\u001b[39m     plt.close()\n\u001b[32m     80\u001b[39m     result_string = image_str.getvalue()\n",
      "\u001b[36mFile \u001b[39m\u001b[32mC:\\Anaconda\\envs\\tema_numpy\\Lib\\site-packages\\matplotlib\\pyplot.py:1244\u001b[39m, in \u001b[36msavefig\u001b[39m\u001b[34m(*args, **kwargs)\u001b[39m\n\u001b[32m   1241\u001b[39m \u001b[38;5;66;03m# savefig default implementation has no return, so mypy is unhappy\u001b[39;00m\n\u001b[32m   1242\u001b[39m \u001b[38;5;66;03m# presumably this is here because subclasses can return?\u001b[39;00m\n\u001b[32m   1243\u001b[39m res = fig.savefig(*args, **kwargs)  \u001b[38;5;66;03m# type: ignore[func-returns-value]\u001b[39;00m\n\u001b[32m-> \u001b[39m\u001b[32m1244\u001b[39m fig.canvas.draw_idle()  \u001b[38;5;66;03m# Need this if 'transparent=True', to reset colors.\u001b[39;00m\n\u001b[32m   1245\u001b[39m \u001b[38;5;28;01mreturn\u001b[39;00m res\n",
      "\u001b[36mFile \u001b[39m\u001b[32mC:\\Anaconda\\envs\\tema_numpy\\Lib\\site-packages\\matplotlib\\backend_bases.py:1891\u001b[39m, in \u001b[36mFigureCanvasBase.draw_idle\u001b[39m\u001b[34m(self, *args, **kwargs)\u001b[39m\n\u001b[32m   1889\u001b[39m \u001b[38;5;28;01mif\u001b[39;00m \u001b[38;5;129;01mnot\u001b[39;00m \u001b[38;5;28mself\u001b[39m._is_idle_drawing:\n\u001b[32m   1890\u001b[39m     \u001b[38;5;28;01mwith\u001b[39;00m \u001b[38;5;28mself\u001b[39m._idle_draw_cntx():\n\u001b[32m-> \u001b[39m\u001b[32m1891\u001b[39m         \u001b[38;5;28mself\u001b[39m.draw(*args, **kwargs)\n",
      "\u001b[36mFile \u001b[39m\u001b[32mC:\\Anaconda\\envs\\tema_numpy\\Lib\\site-packages\\matplotlib\\backends\\backend_agg.py:377\u001b[39m, in \u001b[36mFigureCanvasAgg.draw\u001b[39m\u001b[34m(self)\u001b[39m\n\u001b[32m    375\u001b[39m \u001b[38;5;28;01mdef\u001b[39;00m\u001b[38;5;250m \u001b[39m\u001b[34mdraw\u001b[39m(\u001b[38;5;28mself\u001b[39m):\n\u001b[32m    376\u001b[39m     \u001b[38;5;66;03m# docstring inherited\u001b[39;00m\n\u001b[32m--> \u001b[39m\u001b[32m377\u001b[39m     \u001b[38;5;28mself\u001b[39m.renderer = \u001b[38;5;28mself\u001b[39m.get_renderer()\n\u001b[32m    378\u001b[39m     \u001b[38;5;28mself\u001b[39m.renderer.clear()\n\u001b[32m    379\u001b[39m     \u001b[38;5;66;03m# Acquire a lock on the shared font cache.\u001b[39;00m\n",
      "\u001b[36mFile \u001b[39m\u001b[32mC:\\Anaconda\\envs\\tema_numpy\\Lib\\site-packages\\matplotlib\\backends\\backend_agg.py:392\u001b[39m, in \u001b[36mFigureCanvasAgg.get_renderer\u001b[39m\u001b[34m(self)\u001b[39m\n\u001b[32m    390\u001b[39m reuse_renderer = (\u001b[38;5;28mself\u001b[39m._lastKey == key)\n\u001b[32m    391\u001b[39m \u001b[38;5;28;01mif\u001b[39;00m \u001b[38;5;129;01mnot\u001b[39;00m reuse_renderer:\n\u001b[32m--> \u001b[39m\u001b[32m392\u001b[39m     \u001b[38;5;28mself\u001b[39m.renderer = RendererAgg(w, h, \u001b[38;5;28mself\u001b[39m.figure.dpi)\n\u001b[32m    393\u001b[39m     \u001b[38;5;28mself\u001b[39m._lastKey = key\n\u001b[32m    394\u001b[39m \u001b[38;5;28;01mreturn\u001b[39;00m \u001b[38;5;28mself\u001b[39m.renderer\n",
      "\u001b[36mFile \u001b[39m\u001b[32mC:\\Anaconda\\envs\\tema_numpy\\Lib\\site-packages\\matplotlib\\backends\\backend_agg.py:69\u001b[39m, in \u001b[36mRendererAgg.__init__\u001b[39m\u001b[34m(self, width, height, dpi)\u001b[39m\n\u001b[32m     67\u001b[39m \u001b[38;5;28mself\u001b[39m.width = width\n\u001b[32m     68\u001b[39m \u001b[38;5;28mself\u001b[39m.height = height\n\u001b[32m---> \u001b[39m\u001b[32m69\u001b[39m \u001b[38;5;28mself\u001b[39m._renderer = _RendererAgg(\u001b[38;5;28mint\u001b[39m(width), \u001b[38;5;28mint\u001b[39m(height), dpi)\n\u001b[32m     70\u001b[39m \u001b[38;5;28mself\u001b[39m._filter_renderers = []\n\u001b[32m     72\u001b[39m \u001b[38;5;28mself\u001b[39m._update_methods()\n",
      "\u001b[31mMemoryError\u001b[39m: bad allocation"
     ]
    },
    {
     "data": {
      "text/plain": []
     },
     "execution_count": 405,
     "metadata": {},
     "output_type": "execute_result"
    }
   ],
   "source": [
    "profile"
   ]
  },
  {
   "cell_type": "markdown",
   "id": "42220ba7-0620-49fb-8ece-a0372467ebc7",
   "metadata": {},
   "source": [
    "#### Important: We have 65.63%% samples with no leave and 34.37% leave samples in our dataset"
   ]
  },
  {
   "cell_type": "markdown",
   "id": "577929f6-9b12-47b5-bf13-2708c3803390",
   "metadata": {},
   "source": [
    "### Change categorical string/boolean columns to categorical integer columns"
   ]
  },
  {
   "cell_type": "code",
   "execution_count": null,
   "id": "0a8f6ad4-2a6a-4e43-9198-e0b66940c1fa",
   "metadata": {},
   "outputs": [],
   "source": [
    "# Codificare valori categorice ca numere întregi\n",
    "data['Education'] = data['Education'].astype('category').cat.codes\n",
    "data['City'] = data['City'].astype('category').cat.codes\n",
    "data['Gender'] = data['Gender'].astype('category').cat.codes\n",
    "data['EverBenched'] = data['EverBenched'].astype('category').cat.codes\n",
    "\n",
    "\n",
    "# Afișăm primele 5 rânduri pentru confirmare\n",
    "data.head()"
   ]
  },
  {
   "cell_type": "code",
   "execution_count": null,
   "id": "21f42c30-0605-425a-8660-33f1100fcf2d",
   "metadata": {},
   "outputs": [],
   "source": [
    "data"
   ]
  },
  {
   "cell_type": "markdown",
   "id": "e81e6343-4796-41c7-a160-6bcd1e742966",
   "metadata": {},
   "source": [
    "### Create x and y from original data"
   ]
  },
  {
   "cell_type": "code",
   "execution_count": null,
   "id": "13123ee2-a8d6-4e3a-8516-a5f46bbfa656",
   "metadata": {},
   "outputs": [],
   "source": [
    "x_data = data.drop(columns=['LeaveOrNot'])\n",
    "x_data"
   ]
  },
  {
   "cell_type": "code",
   "execution_count": null,
   "id": "28f36969-7892-45e3-b205-fd706be1f966",
   "metadata": {},
   "outputs": [],
   "source": [
    "y_data = data[['LeaveOrNot']]\n",
    "y_data"
   ]
  },
  {
   "cell_type": "markdown",
   "id": "9ee2b3f7-7927-427c-950a-0f5b556ef6a2",
   "metadata": {},
   "source": [
    "### View features against Leave or Not"
   ]
  },
  {
   "cell_type": "code",
   "execution_count": null,
   "id": "5c011b9b-4901-4dc9-8aff-c43cab2df47d",
   "metadata": {},
   "outputs": [],
   "source": [
    "plt.scatter(x_data['Age'], y_data)"
   ]
  },
  {
   "cell_type": "markdown",
   "id": "8254630c-15b9-48ae-8510-cc32de486e3f",
   "metadata": {},
   "source": [
    "### Split data into training and validation datasets: Default 80% train, 20% validation"
   ]
  },
  {
   "cell_type": "code",
   "execution_count": null,
   "id": "bccd8cf0-b222-484f-8208-9e6f11fcc686",
   "metadata": {},
   "outputs": [],
   "source": [
    "x_train, x_validation, y_train, y_validation = train_test_split(x_data, y_data, test_size=0.2, random_state=42, stratify=y_data)"
   ]
  },
  {
   "cell_type": "markdown",
   "id": "47d5e1de-372a-4fd6-82d5-820dd37d2266",
   "metadata": {},
   "source": [
    "### Visualize how one sample looks like"
   ]
  },
  {
   "cell_type": "code",
   "execution_count": null,
   "id": "b8fd4ef8-26b5-49dd-b902-9937e6dc9d84",
   "metadata": {},
   "outputs": [],
   "source": [
    "x_train = x_train.to_numpy()\n",
    "x_validation = x_validation.to_numpy()\n",
    "y_train = y_train.to_numpy()\n",
    "y_validation = y_validation.to_numpy()"
   ]
  },
  {
   "cell_type": "code",
   "execution_count": null,
   "id": "b46756ba-3cb6-4bdb-a390-7af96668d227",
   "metadata": {},
   "outputs": [],
   "source": [
    "x_train[0]"
   ]
  },
  {
   "cell_type": "markdown",
   "id": "41a96c30-b326-41dd-9489-7d93c06a8902",
   "metadata": {},
   "source": [
    "### Visualize the nuber of training samples and number of validation samples"
   ]
  },
  {
   "cell_type": "code",
   "execution_count": null,
   "id": "71142d90-1b4d-4fa6-8bf1-a5776b842d8e",
   "metadata": {},
   "outputs": [],
   "source": [
    "len(y_train), len(y_validation)"
   ]
  },
  {
   "cell_type": "markdown",
   "id": "32b2212b-a421-49a0-96ff-6b9ae5bad340",
   "metadata": {},
   "source": [
    "### Visualize the number of no leave vs leave samples in training dataset"
   ]
  },
  {
   "cell_type": "markdown",
   "id": "3086bf13-e994-46ce-97b2-4784642fbcae",
   "metadata": {},
   "source": [
    "#### Having 65.63% samples with no leave and 34.37% samples with leave in our dataset\n",
    "#### So we have a ratio of about 1.91 no leave samples to 1 leave sample.\n",
    "#### Our training and validation dataset should respect this ratio approximately"
   ]
  },
  {
   "cell_type": "code",
   "execution_count": null,
   "id": "35832059-787b-43a8-ba03-6fdaff850e27",
   "metadata": {},
   "outputs": [],
   "source": [
    "np.unique(y_train, return_counts=True)"
   ]
  },
  {
   "cell_type": "markdown",
   "id": "f3031f99-d995-42a1-bf2d-a2347be24525",
   "metadata": {},
   "source": [
    "#### 2442 samples of 0 (no leave) and 1280 samples of 1 (leave)\n",
    "#### 1280 * 1.91 = 2442"
   ]
  },
  {
   "cell_type": "markdown",
   "id": "e11d8487-15ca-494d-b117-17114c0bf288",
   "metadata": {},
   "source": [
    "### Visualize the number of no leave vs leave samples in validation dataset"
   ]
  },
  {
   "cell_type": "markdown",
   "id": "4e5f997a-20be-4bd2-862b-5ede575d0048",
   "metadata": {},
   "source": [
    "#### 611 samples of 0 (no leave) and 320 samples of 1 (leave)\n",
    "#### 320 * 1.91 = 611"
   ]
  },
  {
   "cell_type": "code",
   "execution_count": null,
   "id": "ac1384d5-dbd2-40d1-bf76-94092277cd84",
   "metadata": {},
   "outputs": [],
   "source": [
    "np.unique(y_validation, return_counts=True)"
   ]
  },
  {
   "cell_type": "markdown",
   "id": "01827fcc-03ef-4021-9398-e548c14eb105",
   "metadata": {},
   "source": [
    "### Standardization - mean and standard deviation calculation"
   ]
  },
  {
   "cell_type": "code",
   "execution_count": null,
   "id": "c66ba751-936a-41b9-bf58-d40dd9231de5",
   "metadata": {},
   "outputs": [],
   "source": [
    "mean   = np.mean(x_train, axis=0)\n",
    "sigma  = np.std(x_train, axis=0)"
   ]
  },
  {
   "cell_type": "code",
   "execution_count": null,
   "id": "2272d874-6abf-40fa-b511-c2e0cb7b8c5e",
   "metadata": {},
   "outputs": [],
   "source": [
    "x_train = (x_train - mean) / sigma"
   ]
  },
  {
   "cell_type": "markdown",
   "id": "687df9d0-4151-47cb-81eb-2226f4a2aef3",
   "metadata": {},
   "source": [
    "### Very important! Validation dataset MUST BE standardized using mean and standard deviation calculated from the training dataset"
   ]
  },
  {
   "cell_type": "code",
   "execution_count": null,
   "id": "cd653a9f-521d-49d2-9386-11eae6c5cd27",
   "metadata": {},
   "outputs": [],
   "source": [
    "x_validation = (x_validation - mean) / sigma"
   ]
  },
  {
   "cell_type": "markdown",
   "id": "305ef23b-708a-4b3d-a351-dfcea90033c8",
   "metadata": {},
   "source": [
    "### View min and max values after standardization from training dataset"
   ]
  },
  {
   "cell_type": "code",
   "execution_count": null,
   "id": "464ec736-48ba-4a53-804e-be0acec38b54",
   "metadata": {},
   "outputs": [],
   "source": [
    "x_train.min(), x_train.max()"
   ]
  },
  {
   "cell_type": "markdown",
   "id": "ccc5fd4a-9f50-476c-af85-22ec759c3814",
   "metadata": {},
   "source": [
    "### View min and max values after standardization from training dataset"
   ]
  },
  {
   "cell_type": "code",
   "execution_count": null,
   "id": "391048b8-9946-4df9-8faf-72ff5e35973b",
   "metadata": {},
   "outputs": [],
   "source": [
    "x_validation.min(), x_validation.max()"
   ]
  },
  {
   "cell_type": "markdown",
   "id": "fbe15239-19cb-4850-bbe3-3d9ef5f22c21",
   "metadata": {},
   "source": [
    "### Logistic Regression implementation"
   ]
  },
  {
   "cell_type": "code",
   "execution_count": null,
   "id": "6682de19-dee0-4a4e-a117-0d2bb682fa1c",
   "metadata": {},
   "outputs": [],
   "source": [
    "def sigmoid(x):\n",
    "    g = 1 / (1 + np.exp(-x))\n",
    "    return g"
   ]
  },
  {
   "cell_type": "markdown",
   "id": "efacad4b-5baf-4ea3-b14e-b2c51fdc5d92",
   "metadata": {},
   "source": [
    "#### Examples of using sigmoid values"
   ]
  },
  {
   "cell_type": "code",
   "execution_count": null,
   "id": "2c551e20-bd2b-4053-84fd-f7a80d88de93",
   "metadata": {},
   "outputs": [],
   "source": [
    "sigmoid(1)"
   ]
  },
  {
   "cell_type": "code",
   "execution_count": null,
   "id": "bcc3da9f-f3e3-439b-8fb7-529105d8c75c",
   "metadata": {},
   "outputs": [],
   "source": [
    "sigmoid(0)"
   ]
  },
  {
   "cell_type": "code",
   "execution_count": null,
   "id": "9d2d0163-b36a-4a31-ae5c-c9965cd7ae96",
   "metadata": {},
   "outputs": [],
   "source": [
    "sigmoid(-1)"
   ]
  },
  {
   "cell_type": "code",
   "execution_count": null,
   "id": "7cb72b73-6dcf-4f83-9d1d-3c5dfcad5d65",
   "metadata": {},
   "outputs": [],
   "source": [
    "sigmoid(-1000)"
   ]
  },
  {
   "cell_type": "code",
   "execution_count": null,
   "id": "95e97026-ebe0-47e9-adb1-636a382c423a",
   "metadata": {},
   "outputs": [],
   "source": [
    "sigmoid(100)"
   ]
  },
  {
   "cell_type": "code",
   "execution_count": null,
   "id": "a1dc3ef4-168a-4715-b93e-e9fffff1819b",
   "metadata": {},
   "outputs": [],
   "source": [
    "def compute_cost(X, y, w, b, lambda_=1):\n",
    "    m = X.shape[0]\n",
    "    cost = 0.0\n",
    "    for i in range(m):\n",
    "        z_i = np.dot(X[i],w) + b\n",
    "        f_wb_i = sigmoid(z_i)\n",
    "        cost +=  -y[i] * np.log(f_wb_i) - (1 - y[i]) * np.log(1 - f_wb_i) \n",
    "             \n",
    "    cost = cost / m\n",
    "    return cost"
   ]
  },
  {
   "cell_type": "code",
   "execution_count": null,
   "id": "b33dd91e-5059-4e2e-a263-6b26d226e10b",
   "metadata": {},
   "outputs": [],
   "source": [
    "def compute_gradient(X, y, w, b, lambda_=1):\n",
    "    m,n = X.shape\n",
    "    dj_dw = np.zeros((n,))                           #(n,)\n",
    "    dj_db = 0.\n",
    "\n",
    "    for i in range(m):\n",
    "        f_wb_i = sigmoid(np.dot(X[i], w) + b)          #(n,)(n,)=scalar\n",
    "        err_i  = f_wb_i  - y[i]                       #scalar\n",
    "        for j in range(n):\n",
    "            dj_dw[j] += err_i * X[i,j]      #scalar\n",
    "        dj_db += err_i\n",
    "    dj_dw = dj_dw/m                                   #(n,)\n",
    "    dj_db = dj_db/m                                   #scalar\n",
    "        \n",
    "    return dj_db, dj_dw"
   ]
  },
  {
   "cell_type": "code",
   "execution_count": null,
   "id": "b69a5821-4805-49a8-901c-aeb2200a7866",
   "metadata": {},
   "outputs": [],
   "source": [
    "def gradient_descent(x_train, y_train, x_validation, y_validation, w_in, b_in, cost_function, gradient_function, alpha, num_iters, lambda_=1):    \n",
    "    # number of training examples\n",
    "    m = len(x_train)\n",
    "    \n",
    "    # An array to store cost J and w's at each iteration primarily for graphing later\n",
    "    J_train_history = []\n",
    "    J_valid_history = []\n",
    "    w_history = []\n",
    "\n",
    "    best_train_score = cost_function(x_train, y_train, w_in, b_in, lambda_)\n",
    "    best_validation_score = cost_valid =  compute_cost(x_validation, y_validation, w_in, b_in, lambda_)\n",
    "    best_w_in_train = copy.deepcopy(w_in)\n",
    "    best_b_train = copy.deepcopy(b_in)\n",
    "    best_w_in_valid = copy.deepcopy(w_in)\n",
    "    best_b_valid = copy.deepcopy(b_in)\n",
    "    \n",
    "    for i in range(num_iters):\n",
    "        \n",
    "        # Calculate the gradient and update the parameters\n",
    "        dj_db, dj_dw = gradient_function(x_train, y_train, w_in, b_in, lambda_)   \n",
    "\n",
    "        # Update Parameters using w, b, alpha and gradient\n",
    "        w_in = w_in - alpha * dj_dw               \n",
    "        b_in = b_in - alpha * dj_db              \n",
    "        \n",
    "        cost_train =  cost_function(x_train, y_train, w_in, b_in, lambda_)\n",
    "        J_train_history.append(cost_train)\n",
    "\n",
    "        cost_valid =  compute_cost(x_validation, y_validation, w_in, b_in, lambda_)\n",
    "        J_valid_history.append(cost_valid)\n",
    "\n",
    "        if best_train_score > cost_train:\n",
    "            best_train_score = cost_train\n",
    "            np.save(f'model/best_train_w_in.npy', w_in)    # .npy extension is added if not given\n",
    "            np.save(f'model/best_train_b.npy', b_in) \n",
    "\n",
    "\n",
    "        if best_validation_score > cost_valid:\n",
    "            best_validation_score = cost_valid\n",
    "            np.save(f'model/best_valid_w_in.npy', w_in)    # .npy extension is added if not given\n",
    "            np.save(f'model/best_valid_b.npy', b_in) \n",
    "        \n",
    "        # Print cost every at intervals 10 times or as many iterations if < 10\n",
    "        if i % math.ceil(num_iters/10) == 0 or i == (num_iters-1):\n",
    "            w_history.append(w_in)\n",
    "            print(f\"Iteration {i:4}: Cost Train: {float(J_train_history[-1].squeeze()):f} \\t  Cost Validation: {float(J_valid_history[-1].squeeze()):f}\")\n",
    "        \n",
    "    return w_in, b_in, J_train_history, J_valid_history, w_history #return w and J,w history for graphing"
   ]
  },
  {
   "cell_type": "code",
   "execution_count": null,
   "id": "4969ae3d-1c09-4a7a-96ea-7e537a908d6b",
   "metadata": {},
   "outputs": [],
   "source": [
    "import os\n",
    "os.makedirs('model', exist_ok=True)"
   ]
  },
  {
   "cell_type": "code",
   "execution_count": null,
   "id": "dd514c37-ff11-4e90-90a2-6248356a4bf8",
   "metadata": {},
   "outputs": [],
   "source": [
    "initial_w = np.zeros(len(x_train[0]))\n",
    "initial_b = 0\n",
    "\n",
    "# Some gradient descent settings\n",
    "iterations = 1000\n",
    "alpha = 0.01\n",
    "lambda_ = 0\n",
    "\n",
    "w_final, b_final, J_train_history, J_valid_history, _ = gradient_descent(x_train=x_train, y_train=y_train, x_validation=x_validation, y_validation=y_validation, w_in=initial_w, b_in=initial_b, cost_function=compute_cost, gradient_function=compute_gradient, alpha=alpha, num_iters=iterations, lambda_=lambda_)"
   ]
  },
  {
   "cell_type": "code",
   "execution_count": null,
   "id": "f7ec90cb-0566-46ab-a4a5-4659b9fefec9",
   "metadata": {},
   "outputs": [],
   "source": [
    "best_w_final = np.load('model/best_valid_w_in.npy')\n",
    "best_b_final = np.load('model/best_valid_b.npy')"
   ]
  },
  {
   "cell_type": "code",
   "execution_count": null,
   "id": "04b45434-11c5-44f2-a567-e22113c3a157",
   "metadata": {},
   "outputs": [],
   "source": [
    "# Generate a sequence of integers to represent the epoch numbers\n",
    "#epochs = range(1, iterations+1)\n",
    " \n",
    "# Plot and label the training and validation loss values\n",
    "plt.plot(J_train_history, label='Training Loss')\n",
    "plt.plot(J_valid_history, label='Validation Loss')\n",
    " \n",
    "# Add in a title and axes labels\n",
    "plt.title('Training and Validation Loss')\n",
    "plt.xlabel('Epochs')\n",
    "plt.ylabel('Loss')\n",
    " \n",
    "# Set the tick locations\n",
    "#plt.xticks(np.arange(0, iterations+1, 2))\n",
    " \n",
    "# Display the plot\n",
    "plt.legend(loc='best')\n",
    "plt.show()"
   ]
  },
  {
   "cell_type": "code",
   "execution_count": null,
   "id": "f9d769ac-7b98-4e7b-8004-c41ed9273bca",
   "metadata": {},
   "outputs": [],
   "source": [
    "def predict(X, w, b):\n",
    "    # number of training examples\n",
    "    m, n = X.shape   \n",
    "    p = np.zeros(m)\n",
    "    \n",
    "    for i in range(m):   \n",
    "        z_wb = 0\n",
    "        # Loop over each feature\n",
    "        for j in range(n): \n",
    "            # Add the corresponding term to z_wb\n",
    "            z_wb += X[i][j] * w[j]\n",
    "        \n",
    "        # Add bias term \n",
    "        z_wb += b\n",
    "        \n",
    "        # Calculate the prediction for this example\n",
    "        f_wb = sigmoid(z_wb)\n",
    "\n",
    "        # Apply the threshold\n",
    "        p[i] = f_wb >= 0.5\n",
    "        \n",
    "    return p"
   ]
  },
  {
   "cell_type": "code",
   "execution_count": null,
   "id": "e51cbf00-349c-4a9b-8119-62adcbcd16a8",
   "metadata": {},
   "outputs": [],
   "source": [
    "y_predicted = predict(x_train, w_final, b_final)"
   ]
  },
  {
   "cell_type": "code",
   "execution_count": null,
   "id": "5856ac02-1118-4cd5-a919-4aca213a284e",
   "metadata": {
    "scrolled": true
   },
   "outputs": [],
   "source": [
    "y_train.shape"
   ]
  },
  {
   "cell_type": "code",
   "execution_count": null,
   "id": "0b755d29-2f9d-4370-b28e-b0c578ea1b97",
   "metadata": {},
   "outputs": [],
   "source": [
    "y_train.reshape(-1).shape, y_predicted.shape"
   ]
  },
  {
   "cell_type": "code",
   "execution_count": null,
   "id": "e38d6144-a1e2-494d-8a15-0263cc64ee9a",
   "metadata": {},
   "outputs": [],
   "source": [
    "(y_train.reshape(-1) == y_predicted).sum()"
   ]
  },
  {
   "cell_type": "code",
   "execution_count": null,
   "id": "daa1d6f0-c0c2-406b-855c-ca5d85674931",
   "metadata": {},
   "outputs": [],
   "source": [
    "x_train.shape\n",
    "x_train.shape"
   ]
  },
  {
   "cell_type": "code",
   "execution_count": null,
   "id": "0b90bc39-2d86-4a92-b6fd-55508a910a5c",
   "metadata": {},
   "outputs": [],
   "source": [
    "y_train = y_train.reshape(-1)"
   ]
  },
  {
   "cell_type": "code",
   "execution_count": null,
   "id": "20295c2a-17e6-4087-b17e-c3046c41d7f6",
   "metadata": {},
   "outputs": [],
   "source": [
    "type(y_predicted)"
   ]
  },
  {
   "cell_type": "code",
   "execution_count": null,
   "id": "22cbdff1-abca-4d58-acb2-663e399b8380",
   "metadata": {},
   "outputs": [],
   "source": [
    "def metrics_computations(x:np.array,\n",
    "                         y_true:np.array,\n",
    "                         y_predicted: np.array):\n",
    "    total_number_of_samples = x.shape[0]\n",
    "    accuracy = (y_true == y_predicted).sum() / total_number_of_samples\n",
    "    true_positive = ((y_predicted == 1) & (y_true == 1)).sum()\n",
    "    false_positive = ((y_predicted == 1) & (y_true == 0)).sum()\n",
    "    false_negative = ((y_predicted == 0) & (y_true == 1)).sum()\n",
    "    true_negative = ((y_predicted == 0) & (y_true == 0)).sum()\n",
    "    \n",
    "    precision = true_positive / (true_positive + false_positive)\n",
    "    recall = true_positive / (true_positive + false_negative)\n",
    "    specificity = true_negative / (true_negative + false_positive)\n",
    "    f1_score = (2 * precision * recall) / (precision + recall)\n",
    "    \n",
    "    false_negative_rate = false_negative / (false_negative + true_positive)\n",
    "    false_positive_rate = false_positive / (false_positive + true_negative)\n",
    "\n",
    "    return (accuracy, precision, recall, specificity, f1_score, false_negative_rate, false_positive_rate)"
   ]
  },
  {
   "cell_type": "code",
   "execution_count": null,
   "id": "5a9adeab-f8bd-4012-ad30-c329dcd8ff52",
   "metadata": {},
   "outputs": [],
   "source": [
    "(accuracy, precision, recall, specificity, f1_score, false_negative_rate, false_positive_rate) = metrics_computations(x=x_train,\n",
    "                                                                                                                     y_true=y_train,\n",
    "                                                                                                                     y_predicted=y_predicted)"
   ]
  },
  {
   "cell_type": "code",
   "execution_count": null,
   "id": "652efd53-d645-401f-ad55-4d476cffd0f0",
   "metadata": {},
   "outputs": [],
   "source": [
    "print(f\"[TRAIN] Accuracy: {(accuracy * 100.):.2f}% \\n Precision: {(precision * 100):.2f}% \\n Recall: {(recall * 100):.2f}% \\n F1 Score: {(f1_score * 100.):.2f}% \\n Specificity: {(specificity * 100):.2f}% \\n False Positive Rate: {(false_positive_rate * 100):.2f}% \\n False Negative Rate: {(false_negative_rate * 100):.2f}%\")"
   ]
  },
  {
   "cell_type": "code",
   "execution_count": null,
   "id": "2850bb63-a601-42ff-af25-8e11ac6ee6eb",
   "metadata": {},
   "outputs": [],
   "source": []
  },
  {
   "cell_type": "code",
   "execution_count": null,
   "id": "aa34a3ab-4394-4c9d-be16-3a4ff5d0c081",
   "metadata": {},
   "outputs": [],
   "source": [
    "y_predicted_validation = predict(x_validation, w_final, b_final)"
   ]
  },
  {
   "cell_type": "code",
   "execution_count": null,
   "id": "667b1e69-6ccd-4af9-ae27-c5ec0c0a929a",
   "metadata": {},
   "outputs": [],
   "source": [
    "y_validation = y_validation.reshape(-1)"
   ]
  },
  {
   "cell_type": "code",
   "execution_count": null,
   "id": "5fd323d9-e971-4ff4-8a86-4468de590a03",
   "metadata": {
    "scrolled": true
   },
   "outputs": [],
   "source": [
    "for i, j in zip(y_validation, y_predicted_validation):\n",
    "    print(i, j)"
   ]
  },
  {
   "cell_type": "code",
   "execution_count": null,
   "id": "8bb20f37-873e-40f6-9000-c10ed3256804",
   "metadata": {},
   "outputs": [],
   "source": [
    "(accuracy, precision, recall, specificity, f1_score, false_negative_rate, false_positive_rate) = metrics_computations(x=x_validation,\n",
    "                                                                                                                     y_true=y_validation,\n",
    "                                                                                                                     y_predicted=y_predicted_validation)"
   ]
  },
  {
   "cell_type": "code",
   "execution_count": null,
   "id": "a12b095a-ee32-4f20-8e03-5d25b88a498e",
   "metadata": {},
   "outputs": [],
   "source": [
    "print(f\"[Valid] Accuracy: {(accuracy * 100.):.2f}% \\n Precision: {(precision * 100):.2f}% \\n Recall: {(recall * 100):.2f}% \\n F1 Score: {(f1_score * 100.):.2f}% \\n Specificity: {(specificity * 100):.2f}% \\n False Positive Rate: {(false_positive_rate * 100):.2f}% \\n False Negative Rate: {(false_negative_rate * 100):.2f}%\")"
   ]
  },
  {
   "cell_type": "markdown",
   "id": "9a42f65e-7d75-45f1-bdaa-736e3d8ae0fd",
   "metadata": {},
   "source": [
    "### Analyze the feature importance"
   ]
  },
  {
   "cell_type": "code",
   "execution_count": null,
   "id": "f4b6327e-f6f8-4e46-bf89-e0c6b52b1b4b",
   "metadata": {},
   "outputs": [],
   "source": [
    "coefficients = copy.deepcopy(w_final)\n",
    "\n",
    "feature_importance = pd.DataFrame({'Feature': x_data.columns.values, 'Importance': np.abs(coefficients)})\n",
    "feature_importance = feature_importance.sort_values('Importance', ascending=True)\n",
    "feature_importance.plot(x='Feature', y='Importance', kind='barh', figsize=(10, 6))"
   ]
  },
  {
   "cell_type": "code",
   "execution_count": null,
   "id": "5d735e7d-1d7d-4f31-83b9-cceff9448f57",
   "metadata": {},
   "outputs": [],
   "source": []
  },
  {
   "cell_type": "markdown",
   "id": "0cab7cf3-3141-427d-a307-a8c66bfd7bdb",
   "metadata": {},
   "source": [
    "### Add polynomial features for improving model capacity"
   ]
  },
  {
   "cell_type": "code",
   "execution_count": null,
   "id": "d17a72ef-8685-4d91-85d5-9b9e7651f9f6",
   "metadata": {},
   "outputs": [],
   "source": [
    "#pip install scikit-learn\n",
    "from sklearn import preprocessing"
   ]
  },
  {
   "cell_type": "code",
   "execution_count": null,
   "id": "1c9cac49-494a-44de-9a03-3eb39584a56e",
   "metadata": {},
   "outputs": [],
   "source": [
    "poly = preprocessing.PolynomialFeatures(2, interaction_only=False, include_bias=False)"
   ]
  },
  {
   "cell_type": "code",
   "execution_count": null,
   "id": "ebc7acfb-a919-4c0d-80d9-64c2b0680807",
   "metadata": {},
   "outputs": [],
   "source": [
    "poly_values = poly.fit_transform(x_data)\n",
    "poly_values"
   ]
  },
  {
   "cell_type": "code",
   "execution_count": null,
   "id": "06525ce1-62de-4131-8961-947737f058a9",
   "metadata": {
    "scrolled": true
   },
   "outputs": [],
   "source": [
    "poly_column_names = list(poly.get_feature_names_out(x_data.columns))\n",
    "poly_column_names"
   ]
  },
  {
   "cell_type": "code",
   "execution_count": null,
   "id": "b0fde2c5-a1ad-49c5-a864-ce81fa9cfff7",
   "metadata": {},
   "outputs": [],
   "source": [
    "x_data = pd.DataFrame(poly_values, columns=poly_column_names)\n",
    "x_data"
   ]
  },
  {
   "cell_type": "code",
   "execution_count": null,
   "id": "16ab58ff-11ba-4594-9efb-6203103dab6f",
   "metadata": {},
   "outputs": [],
   "source": [
    "x_data.columns"
   ]
  },
  {
   "cell_type": "code",
   "execution_count": null,
   "id": "cb869b07-a0a0-433e-ba5f-12cf844e3591",
   "metadata": {},
   "outputs": [],
   "source": []
  },
  {
   "cell_type": "markdown",
   "id": "351842fa-4304-4b02-970d-29b049a1e3fb",
   "metadata": {},
   "source": [
    "### Split data into training and validation datasets: Default 80% train, 20% validation"
   ]
  },
  {
   "cell_type": "code",
   "execution_count": null,
   "id": "87abfc1f-7687-48a4-b6e4-a403a158de77",
   "metadata": {},
   "outputs": [],
   "source": [
    "x_train, x_validation, y_train, y_validation = train_test_split(x_data, y_data, test_size=0.2, random_state=42, stratify=y_data)"
   ]
  },
  {
   "cell_type": "code",
   "execution_count": null,
   "id": "bdbaef65-9c46-4b95-86d7-877e35c29de1",
   "metadata": {},
   "outputs": [],
   "source": [
    "x_train = x_train.to_numpy()\n",
    "x_validation = x_validation.to_numpy()\n",
    "y_train = y_train.to_numpy()\n",
    "y_validation = y_validation.to_numpy()"
   ]
  },
  {
   "cell_type": "markdown",
   "id": "61628136-96c8-4ba4-a657-80381fcbda45",
   "metadata": {},
   "source": [
    "### Visualize how one sample looks like"
   ]
  },
  {
   "cell_type": "code",
   "execution_count": null,
   "id": "83d8aa8c-3f05-4c96-9ba8-c4275df07d15",
   "metadata": {
    "scrolled": true
   },
   "outputs": [],
   "source": [
    "x_train[0]"
   ]
  },
  {
   "cell_type": "markdown",
   "id": "badf2c3f-0218-43a3-8ace-9a778b2027e4",
   "metadata": {},
   "source": [
    "### Visualize the nuber of training samples and number of validation samples"
   ]
  },
  {
   "cell_type": "code",
   "execution_count": null,
   "id": "dbfacb65-06fa-41b9-96f1-0dfb4a29180f",
   "metadata": {},
   "outputs": [],
   "source": [
    "len(y_train), len(y_validation)"
   ]
  },
  {
   "cell_type": "markdown",
   "id": "43fa3086-4556-4968-8b1f-548bfed599c2",
   "metadata": {},
   "source": [
    "### Visualize the number of no leave vs leave samples in training dataset"
   ]
  },
  {
   "cell_type": "markdown",
   "id": "35e0555e-3516-467d-afc1-420b3b0912c0",
   "metadata": {},
   "source": [
    "#### Having 65.63% samples with no leave and 34.37% samples with leave in our dataset\n",
    "#### So we have a ratio of about 1.91 no leave samples to 1 leave sample.\n",
    "#### Our training and validation dataset should respect this ratio approximately"
   ]
  },
  {
   "cell_type": "code",
   "execution_count": null,
   "id": "b55c6739-72a9-4b3a-932b-a01b4f52930f",
   "metadata": {},
   "outputs": [],
   "source": [
    "np.unique(y_train, return_counts=True)"
   ]
  },
  {
   "cell_type": "markdown",
   "id": "89020eca-ad6b-44fe-aabf-2c4c8d502b17",
   "metadata": {},
   "source": [
    "#### 2442 samples of 0 (no leave) and 1280 samples of 1 (leave)\n",
    "#### 1280 * 1.91 = 2442"
   ]
  },
  {
   "cell_type": "markdown",
   "id": "48a36c07-ef95-4bd1-94e1-dc662cc9e312",
   "metadata": {},
   "source": [
    "### Visualize the number of no churn vs churn samples in validation dataset"
   ]
  },
  {
   "cell_type": "markdown",
   "id": "98a78d09-c460-4f5e-af2e-883618e66dd8",
   "metadata": {},
   "source": [
    "#### 611 samples of 0 (no leave) and 320 samples of 1 (leave)\n",
    "#### 320 * 1.91 = 611"
   ]
  },
  {
   "cell_type": "code",
   "execution_count": null,
   "id": "926e7fdd-b3a2-45f4-bf89-baf6b8342a12",
   "metadata": {},
   "outputs": [],
   "source": [
    "np.unique(y_validation, return_counts=True)"
   ]
  },
  {
   "cell_type": "markdown",
   "id": "5d99629c-441f-4fb8-a656-fa3e95196fc1",
   "metadata": {},
   "source": [
    "### Standardization - mean and standard deviation calculation"
   ]
  },
  {
   "cell_type": "code",
   "execution_count": null,
   "id": "aca59f4f-580a-46f1-b46c-cbd0062f9b7e",
   "metadata": {},
   "outputs": [],
   "source": [
    "mean   = np.mean(x_train, axis=0)\n",
    "sigma  = np.std(x_train, axis=0)"
   ]
  },
  {
   "cell_type": "code",
   "execution_count": null,
   "id": "21369d93-2470-4fe2-9b71-82df8e27cf9f",
   "metadata": {},
   "outputs": [],
   "source": [
    "x_train = (x_train - mean) / sigma"
   ]
  },
  {
   "cell_type": "markdown",
   "id": "ca1d3562-5dff-47b8-9d53-231370bf721a",
   "metadata": {},
   "source": [
    "### Very important! Validation dataset MUST BE standardized using mean and standard deviation calculated from the training dataset"
   ]
  },
  {
   "cell_type": "code",
   "execution_count": null,
   "id": "79cc97f8-ed22-4f2e-a5fc-23e4160bf071",
   "metadata": {},
   "outputs": [],
   "source": [
    "x_validation = (x_validation - mean) / sigma"
   ]
  },
  {
   "cell_type": "markdown",
   "id": "9fbc8dfc-d8ab-4711-a79d-5f67993668fe",
   "metadata": {},
   "source": [
    "### View min and max values after standardization from training dataset"
   ]
  },
  {
   "cell_type": "code",
   "execution_count": null,
   "id": "237a3442-be90-4793-86e3-6ba883c5ba51",
   "metadata": {},
   "outputs": [],
   "source": [
    "x_train.min(), x_train.max()"
   ]
  },
  {
   "cell_type": "markdown",
   "id": "c5c32832-4370-4855-8a9b-9e84c3ac2eb1",
   "metadata": {},
   "source": [
    "### View min and max values after standardization from training dataset"
   ]
  },
  {
   "cell_type": "code",
   "execution_count": null,
   "id": "5fe7eda0-128b-4281-b81a-70413908e27f",
   "metadata": {},
   "outputs": [],
   "source": [
    "x_validation.min(), x_validation.max()"
   ]
  },
  {
   "cell_type": "markdown",
   "id": "74ae0a05-ae53-4c27-b3f0-7b12d7862e16",
   "metadata": {},
   "source": [
    "### Train with polynomial features"
   ]
  },
  {
   "cell_type": "code",
   "execution_count": null,
   "id": "7aca6280-51ed-4599-a78c-6be081c90c99",
   "metadata": {},
   "outputs": [],
   "source": [
    "def gradient_descent(x_train, y_train, x_validation, y_validation, w_in, b_in, cost_function, gradient_function, alpha, num_iters, lambda_=1):    \n",
    "    # number of training examples\n",
    "    m = len(x_train)\n",
    "    \n",
    "    # An array to store cost J and w's at each iteration primarily for graphing later\n",
    "    J_train_history = []\n",
    "    J_valid_history = []\n",
    "    w_history = []\n",
    "\n",
    "    best_train_score = cost_function(x_train, y_train, w_in, b_in, lambda_)\n",
    "    best_validation_score = cost_valid =  compute_cost(x_validation, y_validation, w_in, b_in, lambda_)\n",
    "    best_w_in_train = copy.deepcopy(w_in)\n",
    "    best_b_train = copy.deepcopy(b_in)\n",
    "    best_w_in_valid = copy.deepcopy(w_in)\n",
    "    best_b_valid = copy.deepcopy(b_in)\n",
    "    \n",
    "    for i in range(num_iters):\n",
    "        \n",
    "        # Calculate the gradient and update the parameters\n",
    "        dj_db, dj_dw = gradient_function(x_train, y_train, w_in, b_in, lambda_)   \n",
    "\n",
    "        # Update Parameters using w, b, alpha and gradient\n",
    "        w_in = w_in - alpha * dj_dw               \n",
    "        b_in = b_in - alpha * dj_db              \n",
    "        \n",
    "        cost_train =  cost_function(x_train, y_train, w_in, b_in, lambda_)\n",
    "        J_train_history.append(cost_train)\n",
    "\n",
    "        cost_valid =  compute_cost(x_validation, y_validation, w_in, b_in, lambda_)\n",
    "        J_valid_history.append(cost_valid)\n",
    "\n",
    "        if best_train_score > cost_train:\n",
    "            best_train_score = cost_train\n",
    "            np.save(f'model/best_poly_train_w_in.npy', w_in)    # .npy extension is added if not given\n",
    "            np.save(f'model/best_poly_train_b.npy', b_in) \n",
    "\n",
    "\n",
    "        if best_validation_score > cost_valid:\n",
    "            best_validation_score = cost_valid\n",
    "            np.save(f'model/best_poly_valid_w_in.npy', w_in)    # .npy extension is added if not given\n",
    "            np.save(f'model/best_poly_valid_b.npy', b_in) \n",
    "        \n",
    "        # Print cost every at intervals 10 times or as many iterations if < 10\n",
    "        if i % math.ceil(num_iters/10) == 0 or i == (num_iters-1):\n",
    "            w_history.append(w_in)\n",
    "            print(f\"Iteration {i:4}: Cost Train: {float(J_train_history[-1].squeeze()):f} \\t  Cost Validation: {float(J_valid_history[-1].squeeze()):f}\")\n",
    "        \n",
    "    return w_in, b_in, J_train_history, J_valid_history, w_history #return w and J,w history for graphing"
   ]
  },
  {
   "cell_type": "code",
   "execution_count": null,
   "id": "49dd587d-1003-4358-8dab-b229f479e42a",
   "metadata": {},
   "outputs": [],
   "source": [
    "initial_w = np.zeros(len(x_train[0]))\n",
    "initial_b = 0\n",
    "\n",
    "# Some gradient descent settings\n",
    "iterations = 1000\n",
    "alpha = 1\n",
    "lambda_ = 0\n",
    "\n",
    "w_final, b_final, J_train_history, J_valid_history, _ = gradient_descent(x_train=x_train, y_train=y_train, x_validation=x_validation, y_validation=y_validation, w_in=initial_w, b_in=initial_b, cost_function=compute_cost, gradient_function=compute_gradient, alpha=alpha, num_iters=iterations, lambda_=lambda_)"
   ]
  },
  {
   "cell_type": "code",
   "execution_count": null,
   "id": "aa5d4f7e-3634-4cba-be9b-6f4582868719",
   "metadata": {},
   "outputs": [],
   "source": [
    "best_poly_w_final = np.load('model/best_poly_valid_w_in.npy')\n",
    "best_poly_b_final = np.load('model/best_poly_valid_b.npy')"
   ]
  },
  {
   "cell_type": "code",
   "execution_count": null,
   "id": "6111b5ad-fc31-43b3-8315-6f7a6c033fa5",
   "metadata": {},
   "outputs": [],
   "source": [
    "# Generate a sequence of integers to represent the epoch numbers\n",
    "#epochs = range(1, iterations+1)\n",
    " \n",
    "# Plot and label the training and validation loss values\n",
    "plt.plot(J_train_history, label='Training Loss')\n",
    "plt.plot(J_valid_history, label='Validation Loss')\n",
    " \n",
    "# Add in a title and axes labels\n",
    "plt.title('Training and Validation Loss')\n",
    "plt.xlabel('Epochs')\n",
    "plt.ylabel('Loss')\n",
    " \n",
    "# Set the tick locations\n",
    "#plt.xticks(np.arange(0, iterations+1, 2))\n",
    " \n",
    "# Display the plot\n",
    "plt.legend(loc='best')\n",
    "plt.show()"
   ]
  },
  {
   "cell_type": "code",
   "execution_count": null,
   "id": "44009a65-bb8b-48fe-99fb-47cba6ddc8dc",
   "metadata": {},
   "outputs": [],
   "source": [
    "def predict(X, w, b):\n",
    "    # number of training examples\n",
    "    m, n = X.shape   \n",
    "    p = np.zeros(m)\n",
    "    \n",
    "    for i in range(m):   \n",
    "        z_wb = 0\n",
    "        # Loop over each feature\n",
    "        for j in range(n): \n",
    "            # Add the corresponding term to z_wb\n",
    "            z_wb += X[i][j] * w[j]\n",
    "        \n",
    "        # Add bias term \n",
    "        z_wb += b\n",
    "        \n",
    "        # Calculate the prediction for this example\n",
    "        f_wb = sigmoid(z_wb)\n",
    "\n",
    "        # Apply the threshold\n",
    "        p[i] = f_wb >= 0.5\n",
    "        \n",
    "    return p"
   ]
  },
  {
   "cell_type": "code",
   "execution_count": null,
   "id": "451a73a8-9e6d-49a7-97de-7dcfb51c1502",
   "metadata": {},
   "outputs": [],
   "source": [
    "y_predicted = predict(x_train, w_final, b_final)"
   ]
  },
  {
   "cell_type": "code",
   "execution_count": null,
   "id": "0db4d832-4f30-41a1-b385-d5b6ebe16033",
   "metadata": {
    "scrolled": true
   },
   "outputs": [],
   "source": [
    "y_train.shape"
   ]
  },
  {
   "cell_type": "code",
   "execution_count": null,
   "id": "8737b91b-bfd8-4008-8735-d8940b3bf07b",
   "metadata": {},
   "outputs": [],
   "source": [
    "y_train.reshape(-1).shape, y_predicted.shape"
   ]
  },
  {
   "cell_type": "code",
   "execution_count": null,
   "id": "f54cb365-a64d-49bf-85e4-fc7890c88ac1",
   "metadata": {},
   "outputs": [],
   "source": [
    "(y_train.reshape(-1) == y_predicted).sum()"
   ]
  },
  {
   "cell_type": "code",
   "execution_count": null,
   "id": "21309efb-a154-4d8d-a26f-a803f08f45aa",
   "metadata": {},
   "outputs": [],
   "source": [
    "y_train = y_train.reshape(-1)"
   ]
  },
  {
   "cell_type": "code",
   "execution_count": null,
   "id": "eb53cddc-31e8-442b-b979-1f9f8e3e67c0",
   "metadata": {},
   "outputs": [],
   "source": [
    "(accuracy, precision, recall, specificity, f1_score, false_negative_rate, false_positive_rate) = metrics_computations(x=x_train,\n",
    "                                                                                                                     y_true=y_train,\n",
    "                                                                                                                     y_predicted=y_predicted)"
   ]
  },
  {
   "cell_type": "code",
   "execution_count": null,
   "id": "d05c5f59-a326-4aba-9bcb-c2c58deb19c2",
   "metadata": {},
   "outputs": [],
   "source": [
    "print(f\"[TRAIN] Accuracy: {(accuracy * 100.):.2f}% \\n Precision: {(precision * 100):.2f}% \\n Recall: {(recall * 100):.2f}% \\n F1 Score: {(f1_score * 100.):.2f}% \\n Specificity: {(specificity * 100):.2f}% \\n False Positive Rate: {(false_positive_rate * 100):.2f}% \\n False Negative Rate: {(false_negative_rate * 100):.2f}%\")"
   ]
  },
  {
   "cell_type": "code",
   "execution_count": null,
   "id": "f7f6268a-f7bc-4e5f-93f3-df83aee1f701",
   "metadata": {},
   "outputs": [],
   "source": [
    "y_predicted_validation = predict(x_validation, w_final, b_final)"
   ]
  },
  {
   "cell_type": "code",
   "execution_count": null,
   "id": "5d8e8beb-9ac1-420a-839f-d4eb4558a3d0",
   "metadata": {},
   "outputs": [],
   "source": [
    "y_validation = y_validation.reshape(-1)"
   ]
  },
  {
   "cell_type": "code",
   "execution_count": null,
   "id": "96f8de99-c873-4e7d-af16-8b2fdc37da47",
   "metadata": {},
   "outputs": [],
   "source": [
    "(accuracy, precision, recall, specificity, f1_score, false_negative_rate, false_positive_rate) = metrics_computations(x=x_validation,\n",
    "                                                                                                                     y_true=y_validation,\n",
    "                                                                                                                     y_predicted=y_predicted_validation)"
   ]
  },
  {
   "cell_type": "code",
   "execution_count": null,
   "id": "ad208f30-a8b4-4606-85d3-ce9065744800",
   "metadata": {},
   "outputs": [],
   "source": [
    "print(f\"[VALID] Accuracy: {(accuracy * 100.):.2f}% \\n Precision: {(precision * 100):.2f}% \\n Recall: {(recall * 100):.2f}% \\n F1 Score: {(f1_score * 100.):.2f}% \\n Specificity: {(specificity * 100):.2f}% \\n False Positive Rate: {(false_positive_rate * 100):.2f}% \\n False Negative Rate: {(false_negative_rate * 100):.2f}%\")"
   ]
  },
  {
   "cell_type": "markdown",
   "id": "44149ea0-2097-4f0c-b37a-27ec9e857e26",
   "metadata": {},
   "source": [
    "### Analyze the feature importance"
   ]
  },
  {
   "cell_type": "code",
   "execution_count": null,
   "id": "9d7f4656-3ab6-42e6-99eb-3bd541f53b20",
   "metadata": {},
   "outputs": [],
   "source": [
    "coefficients = copy.deepcopy(w_final)\n",
    "\n",
    "feature_importance = pd.DataFrame({'Feature': x_data.columns.values, 'Importance': np.abs(coefficients)})\n",
    "feature_importance = feature_importance.sort_values('Importance', ascending=True)\n",
    "feature_importance.tail(20).plot(x='Feature', y='Importance', kind='barh', figsize=(10, 6))"
   ]
  },
  {
   "cell_type": "markdown",
   "id": "dba660d3-4fb4-4b5b-aa83-a55f8c5dabd2",
   "metadata": {},
   "source": [
    "#### For example most important feature is obtained by multipling two features: Total day minutes and Customer service calls"
   ]
  },
  {
   "cell_type": "code",
   "execution_count": null,
   "id": "29ec7efa-17f5-4bb8-a203-140e8168248b",
   "metadata": {},
   "outputs": [],
   "source": []
  },
  {
   "cell_type": "code",
   "execution_count": null,
   "id": "71aad32b-08f8-4a58-9cef-752ed4982d6b",
   "metadata": {},
   "outputs": [],
   "source": []
  },
  {
   "cell_type": "markdown",
   "id": "61688dcb-19a4-4431-9f0e-809bf0d32bb4",
   "metadata": {},
   "source": [
    "### Decision Tree \n",
    "#### Specialized in learning non-linear data\n",
    "#### No need for Normalization/Standardization\n",
    "#### No need for Polynomial Feature Transformation"
   ]
  },
  {
   "cell_type": "code",
   "execution_count": null,
   "id": "e46bc3b6-7a92-4281-b64f-b8a7ee387118",
   "metadata": {},
   "outputs": [],
   "source": [
    "x_data = data.drop(columns=['LeaveOrNot'])"
   ]
  },
  {
   "cell_type": "markdown",
   "id": "318d1993-f749-4519-915d-eccf497bde0b",
   "metadata": {},
   "source": [
    "### Split data into training and validation datasets: Default 80% train, 20% validation"
   ]
  },
  {
   "cell_type": "code",
   "execution_count": null,
   "id": "05bc2d9b-8b9d-4038-9ebd-12fb00d849b9",
   "metadata": {},
   "outputs": [],
   "source": [
    "x_train, x_validation, y_train, y_validation = train_test_split(x_data, y_data, test_size=0.2, random_state=42, stratify=y_data)"
   ]
  },
  {
   "cell_type": "code",
   "execution_count": null,
   "id": "15890e42-3770-4282-a2d1-b7f09224b9a3",
   "metadata": {},
   "outputs": [],
   "source": [
    "x_train = x_train.to_numpy()\n",
    "x_validation = x_validation.to_numpy()\n",
    "y_train = y_train.to_numpy()\n",
    "y_validation = y_validation.to_numpy()"
   ]
  },
  {
   "cell_type": "markdown",
   "id": "435838fc-a366-4e72-ac17-f9970dd81109",
   "metadata": {},
   "source": [
    "### Visualize how one sample looks like"
   ]
  },
  {
   "cell_type": "code",
   "execution_count": null,
   "id": "f503c184-8af1-47ad-b915-d0793e0d318d",
   "metadata": {},
   "outputs": [],
   "source": [
    "x_train[0]"
   ]
  },
  {
   "cell_type": "markdown",
   "id": "4ff1e610-21de-4657-a86f-942d2e419838",
   "metadata": {},
   "source": [
    "### Visualize the nuber of training samples and number of validation samples"
   ]
  },
  {
   "cell_type": "code",
   "execution_count": null,
   "id": "a816b311-3e60-4eac-98f7-90ff443aa55a",
   "metadata": {},
   "outputs": [],
   "source": [
    "len(y_train), len(y_validation)"
   ]
  },
  {
   "cell_type": "markdown",
   "id": "09cbbb0c-184c-4f7a-919d-b26e4fd6e6dc",
   "metadata": {},
   "source": [
    "### Visualize the number of no leave vs leave samples in training dataset"
   ]
  },
  {
   "cell_type": "markdown",
   "id": "a582d9b2-5f26-4b38-9de8-4dd0ae623af0",
   "metadata": {},
   "source": [
    "#### Having 65.63% samples with no leave and 34.37% samples with leave in our dataset\n",
    "#### So we have a ratio of about 1.91 no leave samples to 1 leave sample.\n",
    "#### Our training and validation dataset should respect this ratio approximately"
   ]
  },
  {
   "cell_type": "code",
   "execution_count": null,
   "id": "6eb4dfdd-dfa7-4a2e-b4a3-45a1959c3f75",
   "metadata": {},
   "outputs": [],
   "source": [
    "np.unique(y_train, return_counts=True)"
   ]
  },
  {
   "cell_type": "markdown",
   "id": "24ec94ad-d7dd-4e7e-8e31-9efd7032b74a",
   "metadata": {},
   "source": [
    "#### 2442 samples of 0 (no leave) and 1280 samples of 1 (leave)\n",
    "#### 1280 * 1.91 = 2442"
   ]
  },
  {
   "cell_type": "markdown",
   "id": "506c15de-73b5-45a9-9b32-15c7eda5ceeb",
   "metadata": {},
   "source": [
    "### Visualize the number of no leave vs leave samples in validation dataset"
   ]
  },
  {
   "cell_type": "markdown",
   "id": "aeefcb9c-28d1-499c-8461-3a6e7d9f2437",
   "metadata": {},
   "source": [
    "#### 611 samples of 0 (no leave) and 320 samples of 1 (leave)\n",
    "#### 320 * 1.91 = 611"
   ]
  },
  {
   "cell_type": "code",
   "execution_count": null,
   "id": "07dfbbf0-35f3-4d03-8a1a-c9d0c505ccf6",
   "metadata": {},
   "outputs": [],
   "source": [
    "np.unique(y_validation, return_counts=True)"
   ]
  },
  {
   "cell_type": "code",
   "execution_count": null,
   "id": "ce466dec-effc-4192-b479-7344c4c686f3",
   "metadata": {},
   "outputs": [],
   "source": [
    "from sklearn.tree import DecisionTreeClassifier, export_text\n",
    "from sklearn.metrics import accuracy_score"
   ]
  },
  {
   "cell_type": "markdown",
   "id": "8ff03187-504a-4345-8ee3-71f8dfbb182d",
   "metadata": {},
   "source": [
    "### Decision Tree Code and Implementation"
   ]
  },
  {
   "cell_type": "markdown",
   "id": "4f883b29-10b4-4261-aac7-a3c34056e8a1",
   "metadata": {},
   "source": [
    "#### Declare Decision Tree with corresponding Hyperparameters"
   ]
  },
  {
   "cell_type": "code",
   "execution_count": null,
   "id": "17acbd7a-5f4a-482a-ab5f-e76ed285c126",
   "metadata": {},
   "outputs": [],
   "source": []
  },
  {
   "cell_type": "code",
   "execution_count": null,
   "id": "15a10185-c85e-410c-91ce-59a0b994a102",
   "metadata": {},
   "outputs": [],
   "source": [
    "classifier = DecisionTreeClassifier(criterion='entropy', min_samples_split=2, max_depth=5)"
   ]
  },
  {
   "cell_type": "code",
   "execution_count": null,
   "id": "e0da3263-e726-4d05-a11a-a6b9ec18ec28",
   "metadata": {},
   "outputs": [],
   "source": [
    "type(x_train)"
   ]
  },
  {
   "cell_type": "code",
   "execution_count": null,
   "id": "a8cf68c6-de52-47ab-ac23-d7381d1a1a09",
   "metadata": {},
   "outputs": [],
   "source": []
  },
  {
   "cell_type": "markdown",
   "id": "ded34311-7e18-46d0-a0b0-9ca1af139582",
   "metadata": {},
   "source": [
    "#### Train the Decision Tree"
   ]
  },
  {
   "cell_type": "code",
   "execution_count": null,
   "id": "29fd2ebc-8c32-49b1-8e1b-bf0dc08b9e00",
   "metadata": {},
   "outputs": [],
   "source": [
    "classifier.fit(x_train, y_train)"
   ]
  },
  {
   "cell_type": "markdown",
   "id": "22757a3d-d6bc-4aa9-b1b8-69aaab75731f",
   "metadata": {},
   "source": [
    "#### Predict on the training dataset "
   ]
  },
  {
   "cell_type": "code",
   "execution_count": null,
   "id": "a5160089-8fea-49b7-ad5a-3c1ef6bbccba",
   "metadata": {},
   "outputs": [],
   "source": [
    "y_predicted = classifier.predict(x_train)\n",
    "y_predicted = np.array(y_predicted)"
   ]
  },
  {
   "cell_type": "markdown",
   "id": "9ff81723-06a1-4544-b5d1-3277ba435da8",
   "metadata": {},
   "source": [
    "### Display training metrics"
   ]
  },
  {
   "cell_type": "code",
   "execution_count": null,
   "id": "d7117a3d-9ec3-4d78-a260-c37aed18dce3",
   "metadata": {},
   "outputs": [],
   "source": [
    "(accuracy, precision, recall, specificity, f1_score, false_negative_rate, false_positive_rate) = metrics_computations(\n",
    "    x=x_train,\n",
    "    y_true=y_train,\n",
    "    y_predicted=y_predicted\n",
    ")\n"
   ]
  },
  {
   "cell_type": "code",
   "execution_count": null,
   "id": "2b384970-5287-4da1-b229-23ebb8e4bc4e",
   "metadata": {},
   "outputs": [],
   "source": [
    "print(f\"[TRAIN] Accuracy: {(accuracy * 100.):.2f}% \\n Precision: {(precision * 100):.2f}% \\n Recall: {(recall * 100):.2f}% \\n F1 Score: {(f1_score * 100.):.2f}% \\n Specificity: {(specificity * 100):.2f}% \\n False Positive Rate: {(false_positive_rate * 100):.2f}% \\n False Negative Rate: {(false_negative_rate * 100):.2f}%\")"
   ]
  },
  {
   "cell_type": "markdown",
   "id": "f68d5878-a502-4d4c-a7cd-61ed30510093",
   "metadata": {},
   "source": [
    "### Display validation metrics"
   ]
  },
  {
   "cell_type": "code",
   "execution_count": null,
   "id": "ecf20c9c-4277-4559-acd6-4bce8552d97c",
   "metadata": {},
   "outputs": [],
   "source": [
    "y_predicted_valid = classifier.predict(x_validation)\n",
    "y_predicted_valid = np.array(y_predicted_valid)"
   ]
  },
  {
   "cell_type": "code",
   "execution_count": null,
   "id": "fe7e8c19-c428-42e2-84cc-5f12a2cf8edb",
   "metadata": {},
   "outputs": [],
   "source": [
    "(accuracy, precision, recall, specificity, f1_score, false_negative_rate, false_positive_rate) = metrics_computations(\n",
    "    x=x_validation,\n",
    "    y_true=y_validation.reshape(-1),  # eliminăm .to_numpy()\n",
    "    y_predicted=y_predicted_valid\n",
    ")\n"
   ]
  },
  {
   "cell_type": "code",
   "execution_count": null,
   "id": "60037b31-3eea-4279-ac68-6992c288c306",
   "metadata": {},
   "outputs": [],
   "source": [
    "print(f\"[VALID] Accuracy: {(accuracy * 100.):.2f}% \\n Precision: {(precision * 100):.2f}% \\n Recall: {(recall * 100):.2f}% \\n F1 Score: {(f1_score * 100.):.2f}% \\n Specificity: {(specificity * 100):.2f}% \\n False Positive Rate: {(false_positive_rate * 100):.2f}% \\n False Negative Rate: {(false_negative_rate * 100):.2f}%\")"
   ]
  },
  {
   "cell_type": "markdown",
   "id": "d8b03072-b386-4107-b8e6-d863ba09d0ab",
   "metadata": {},
   "source": [
    "### Display Decision Tree and Learned rules by the Tree "
   ]
  },
  {
   "cell_type": "code",
   "execution_count": null,
   "id": "2fd6d936-53da-473b-82c2-f4ce9e97e697",
   "metadata": {
    "scrolled": true
   },
   "outputs": [],
   "source": [
    "list(x_data.columns)"
   ]
  },
  {
   "cell_type": "code",
   "execution_count": null,
   "id": "81004973-6ed9-4e9f-b1b8-bdd037e94f8e",
   "metadata": {},
   "outputs": [],
   "source": [
    "from sklearn.tree import plot_tree\n"
   ]
  },
  {
   "cell_type": "code",
   "execution_count": null,
   "id": "8fd62374-2c9c-4d2d-9c78-a27843cea9f7",
   "metadata": {},
   "outputs": [],
   "source": [
    "fig, axes = plt.subplots(nrows = 1,ncols = 1, figsize=(70,50), dpi=300)\n",
    "plot_tree(classifier, filled=True, fontsize=20, feature_names=list(x_data.columns),rounded=True, ax=axes)\n",
    "plt.savefig('decisionTree.png')"
   ]
  },
  {
   "cell_type": "code",
   "execution_count": null,
   "id": "c39cdff2-fc49-41bb-b7d7-15d5870c8463",
   "metadata": {},
   "outputs": [],
   "source": [
    "text_representation = export_text(classifier, feature_names=list(x_data.columns))\n",
    "print(text_representation)\n"
   ]
  },
  {
   "cell_type": "code",
   "execution_count": null,
   "id": "618b9b5c-d03b-41ab-9a0d-cca81ef5553f",
   "metadata": {},
   "outputs": [],
   "source": [
    "from sklearn.tree import _tree"
   ]
  },
  {
   "cell_type": "code",
   "execution_count": null,
   "id": "8f105212-7e5c-4f77-be61-53375058b23f",
   "metadata": {},
   "outputs": [],
   "source": [
    "def get_rules(tree, feature_names, class_names):\n",
    "    tree_ = tree.tree_\n",
    "    feature_name = [\n",
    "        feature_names[i] if i != _tree.TREE_UNDEFINED else \"undefined!\"\n",
    "        for i in tree_.feature\n",
    "    ]\n",
    "\n",
    "    paths = []\n",
    "    path = []\n",
    "    \n",
    "    def recurse(node, path, paths):\n",
    "        \n",
    "        if tree_.feature[node] != _tree.TREE_UNDEFINED:\n",
    "            name = feature_name[node]\n",
    "            threshold = tree_.threshold[node]\n",
    "            p1, p2 = list(path), list(path)\n",
    "            p1 += [f\"({name} <= {np.round(threshold, 3)})\"]\n",
    "            recurse(tree_.children_left[node], p1, paths)\n",
    "            p2 += [f\"({name} > {np.round(threshold, 3)})\"]\n",
    "            recurse(tree_.children_right[node], p2, paths)\n",
    "        else:\n",
    "            path += [(tree_.value[node], tree_.n_node_samples[node])]\n",
    "            paths += [path]\n",
    "            \n",
    "    recurse(0, path, paths)\n",
    "\n",
    "    # sort by samples count\n",
    "    samples_count = [p[-1][1] for p in paths]\n",
    "    ii = list(np.argsort(samples_count))\n",
    "    paths = [paths[i] for i in reversed(ii)]\n",
    "    \n",
    "    rules = []\n",
    "    for path in paths:\n",
    "        rule = \"if \"\n",
    "        \n",
    "        for p in path[:-1]:\n",
    "            if rule != \"if \":\n",
    "                rule += \" and \"\n",
    "            rule += str(p)\n",
    "        rule += \" then \"\n",
    "        if class_names is None:\n",
    "            rule += \"response: \"+str(np.round(path[-1][0][0][0],3))\n",
    "        else:\n",
    "            classes = path[-1][0][0]\n",
    "            l = np.argmax(classes)\n",
    "            rule += f\"class: {class_names[l]} (proba: {np.round(100.0*classes[l]/np.sum(classes),2)}%)\"\n",
    "        rule += f\" | based on {path[-1][1]:,} samples\"\n",
    "        rules += [rule]\n",
    "        \n",
    "    return rules"
   ]
  },
  {
   "cell_type": "code",
   "execution_count": null,
   "id": "849bd177-2e96-437f-9785-bb5553576a83",
   "metadata": {},
   "outputs": [],
   "source": [
    "rules = get_rules(classifier, feature_names=list(x_data.columns), class_names=['No Leave', 'Leave'])\n",
    "for r in rules:\n",
    "    print(r)"
   ]
  },
  {
   "cell_type": "code",
   "execution_count": null,
   "id": "3fd48ef6-c188-4be2-9b09-403c40820278",
   "metadata": {},
   "outputs": [],
   "source": []
  }
 ],
 "metadata": {
  "kaggle": {
   "accelerator": "none",
   "dataSources": [
    {
     "datasetId": 7453517,
     "sourceId": 11861492,
     "sourceType": "datasetVersion"
    },
    {
     "datasetId": 7453539,
     "sourceId": 11861522,
     "sourceType": "datasetVersion"
    }
   ],
   "dockerImageVersionId": 31040,
   "isGpuEnabled": false,
   "isInternetEnabled": true,
   "language": "python",
   "sourceType": "notebook"
  },
  "kernelspec": {
   "display_name": "Python [conda env:tema_numpy]",
   "language": "python",
   "name": "conda-env-tema_numpy-py"
  },
  "language_info": {
   "codemirror_mode": {
    "name": "ipython",
    "version": 3
   },
   "file_extension": ".py",
   "mimetype": "text/x-python",
   "name": "python",
   "nbconvert_exporter": "python",
   "pygments_lexer": "ipython3",
   "version": "3.11.11"
  }
 },
 "nbformat": 4,
 "nbformat_minor": 5
}
